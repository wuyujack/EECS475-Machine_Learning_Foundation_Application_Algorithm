{
 "cells": [
  {
   "cell_type": "markdown",
   "metadata": {},
   "source": [
    "# EECS 495 Homwwork 1"
   ]
  },
  {
   "cell_type": "markdown",
   "metadata": {},
   "source": [
    "## Student: Mingfu Liang"
   ]
  },
  {
   "cell_type": "markdown",
   "metadata": {},
   "source": [
    "## Student ID: 3146919"
   ]
  },
  {
   "cell_type": "markdown",
   "metadata": {},
   "source": [
    "## NetID: MLQ4767"
   ]
  },
  {
   "cell_type": "markdown",
   "metadata": {},
   "source": [
    "## Email: mingfuliang2020@u.northwestern.edu"
   ]
  },
  {
   "cell_type": "code",
   "execution_count": 167,
   "metadata": {
    "collapsed": true
   },
   "outputs": [],
   "source": [
    "# import statements\n",
    "datapath = 'datasets/'\n",
    "from autograd import numpy as np"
   ]
  },
  {
   "cell_type": "markdown",
   "metadata": {},
   "source": [
    "## A gradient descent and cost function history plotting function "
   ]
  },
  {
   "cell_type": "code",
   "execution_count": 168,
   "metadata": {
    "collapsed": true
   },
   "outputs": [],
   "source": [
    "# import automatic differentiator to compute gradient module\n",
    "from autograd import grad \n",
    "\n",
    "# gradient descent function \n",
    "def gradient_descent(g,alpha,max_its,w):\n",
    "    # compute gradient module using autograd\n",
    "    gradient = grad(g)\n",
    "\n",
    "    # run the gradient descent loop\n",
    "    weight_history = [w] # weight history container\n",
    "    cost_history = [g(w)] # cost function history container\n",
    "    for k in range(max_its):\n",
    "        # evaluate the gradient\n",
    "        grad_eval = gradient(w)\n",
    "\n",
    "        # take gradient descent step\n",
    "        w = w - alpha*grad_eval\n",
    "        \n",
    "        # record weight and cost\n",
    "        weight_history.append(w)\n",
    "        cost_history.append(g(w))\n",
    "    return weight_history,cost_history"
   ]
  },
  {
   "cell_type": "code",
   "execution_count": 169,
   "metadata": {
    "collapsed": true
   },
   "outputs": [],
   "source": [
    "# the import statement for matplotlib\n",
    "import matplotlib.pyplot as plt\n",
    "\n",
    "# cost function history plotter\n",
    "def plot_cost_histories(cost_histories,labels):\n",
    "    # create figure\n",
    "    plt.figure()\n",
    "    \n",
    "    # loop over cost histories and plot each one\n",
    "    for j in range(len(cost_histories)):\n",
    "        history = cost_histories[j]\n",
    "        label = labels[j]\n",
    "        plt.plot(history,label = label)\n",
    "    plt.legend(loc='center left', bbox_to_anchor=(1, 0.5))\n",
    "    plt.show()"
   ]
  },
  {
   "cell_type": "markdown",
   "metadata": {},
   "source": [
    "# Chapter 5 Exercises"
   ]
  },
  {
   "cell_type": "markdown",
   "metadata": {},
   "source": [
    "Complete exercises 2, 6, and 7 from Chapter 5 - make sure to download the most recent version of the text.  Below we load in each dataset."
   ]
  },
  {
   "cell_type": "markdown",
   "metadata": {},
   "source": [
    "## Exercise 2"
   ]
  },
  {
   "cell_type": "markdown",
   "metadata": {},
   "source": [
    "### Solution to 2(a) using Gradient Descent"
   ]
  },
  {
   "cell_type": "markdown",
   "metadata": {},
   "source": [
    "First we plot the dataset to visualize the data as below, the output figure is the same as Figure 5.13 in Chapter 5:"
   ]
  },
  {
   "cell_type": "code",
   "execution_count": 170,
   "metadata": {},
   "outputs": [
    {
     "data": {
      "image/png": "[encoded data removed]",
      "text/plain": [
       "<Figure size 432x288 with 1 Axes>"
      ]
     },
     "metadata": {},
     "output_type": "display_data"
    }
   ],
   "source": [
    "%matplotlib inline\n",
    "# import statements\n",
    "datapath = 'datasets/'\n",
    "from autograd import grad \n",
    "from autograd import numpy as np\n",
    "import numpy as np\n",
    "from sklearn import datasets, linear_model\n",
    "from sklearn.metrics import mean_squared_error, r2_score\n",
    "import matplotlib.pyplot as plt\n",
    "\n",
    "# load in dataset\n",
    "csvname = datapath + 'kleibers_law_data.csv'\n",
    "data = np.loadtxt(csvname,delimiter=',')\n",
    "\n",
    "# get input and output of dataset\n",
    "x = data[:-1,:]\n",
    "y = data[-1:,:] \n",
    "\n",
    "# log of the data \n",
    "x = np.log(x)\n",
    "y = np.log(y)\n",
    "\n",
    "# plot the data and make sure it is the same as the Figure 2 in the Chapter 5\n",
    "plt.scatter(x,y)\n",
    "plt.show()"
   ]
  },
  {
   "cell_type": "markdown",
   "metadata": {},
   "source": [
    "Now we define the linear combination of input points and the Least Squares cost function as below:"
   ]
  },
  {
   "cell_type": "code",
   "execution_count": 171,
   "metadata": {
    "collapsed": true
   },
   "outputs": [],
   "source": [
    "# Compute linear combination of input points\n",
    "def model(x,w):\n",
    "    a = w[0] + np.dot(x.T,w[1])\n",
    "    return a.T\n",
    "\n",
    "# Implementation of the least squares cost function for linear regression\n",
    "def least_squares(w):\n",
    "    # Compute the least squares cost\n",
    "\n",
    "        cost = np.sum((model(x,w)-y)**2)\n",
    "        return cost/float(y.size)\n",
    "\n",
    "g = lambda w: least_squares(w)"
   ]
  },
  {
   "cell_type": "markdown",
   "metadata": {},
   "source": [
    "Then we define the gradient descent function as below:"
   ]
  },
  {
   "cell_type": "code",
   "execution_count": 172,
   "metadata": {
    "collapsed": true
   },
   "outputs": [],
   "source": [
    "# import automatic differentiator to compute gradient module\n",
    "from autograd import grad \n",
    "import autograd.numpy as np   \n",
    "from autograd import value_and_grad \n",
    "import matplotlib.pyplot as plt\n",
    "\n",
    "# gradient descent function \n",
    "def gradient_descent(g,alpha,max_its,w):\n",
    "    # compute gradient module using autograd\n",
    "    gradient = grad(g)\n",
    "\n",
    "    # run the gradient descent loop\n",
    "    weight_history = [w] # weight history container\n",
    "    cost_history = [g(w)] # cost function history container\n",
    "    for k in range(max_its):\n",
    "        # evaluate the gradient\n",
    "        grad_eval = gradient(w)\n",
    "\n",
    "        # take gradient descent step\n",
    "        w = w - alpha*grad_eval\n",
    "        \n",
    "        # record weight and cost\n",
    "        weight_history.append(w)\n",
    "        cost_history.append(g(w))\n",
    "    return weight_history,cost_history"
   ]
  },
  {
   "cell_type": "markdown",
   "metadata": {},
   "source": [
    "Now we minimize the Least Squares cost funciton by gradient descent as below:"
   ]
  },
  {
   "cell_type": "code",
   "execution_count": 173,
   "metadata": {
    "collapsed": true
   },
   "outputs": [],
   "source": [
    "#  Minimizing the LeastSquares costs\n",
    "alpha_choice = 100**(-1); max_its = 1000; w = np.array([0.0, 0.0]);\n",
    "weight_history_1,cost_history_1 = gradient_descent(g,alpha_choice,max_its,w)"
   ]
  },
  {
   "cell_type": "markdown",
   "metadata": {},
   "source": [
    "And then we define the cost function history plotter as below:"
   ]
  },
  {
   "cell_type": "code",
   "execution_count": 174,
   "metadata": {
    "collapsed": true
   },
   "outputs": [],
   "source": [
    "# the import statement for matplotlib\n",
    "import matplotlib.pyplot as plt\n",
    "\n",
    "# cost function history plotter\n",
    "def plot_cost_histories(cost_histories,labels):\n",
    "    # create figure\n",
    "    plt.figure()\n",
    "    \n",
    "    # loop over cost histories and plot each one\n",
    "    for j in range(len(cost_histories)):\n",
    "        history = cost_histories[j]\n",
    "        label = labels[j]\n",
    "        plt.plot(history,label = label)\n",
    "    plt.legend(loc='center left', bbox_to_anchor=(1, 0.5))\n",
    "    plt.show()"
   ]
  },
  {
   "cell_type": "markdown",
   "metadata": {},
   "source": [
    "Then we print the optimal parameter of the linear regression as below:"
   ]
  },
  {
   "cell_type": "code",
   "execution_count": 175,
   "metadata": {},
   "outputs": [
    {
     "data": {
      "text/plain": [
       "array([6.81472336, 0.65280989])"
      ]
     },
     "execution_count": 175,
     "metadata": {},
     "output_type": "execute_result"
    }
   ],
   "source": [
    "weight_history_1[-1]"
   ]
  },
  {
   "cell_type": "markdown",
   "metadata": {},
   "source": [
    "Therefore we know that the $w_{0}$ and $w_{1}$ for this linear regression is:"
   ]
  },
  {
   "cell_type": "code",
   "execution_count": 176,
   "metadata": {},
   "outputs": [
    {
     "name": "stdout",
     "output_type": "stream",
     "text": [
      "w1 : 0.6528098912807687\n",
      "w0 : 6.814723362087358\n"
     ]
    }
   ],
   "source": [
    "# The coefficients\n",
    "print('w1 :',weight_history_1[-1][1])\n",
    "print('w0 :',weight_history_1[-1][0])"
   ]
  },
  {
   "cell_type": "markdown",
   "metadata": {},
   "source": [
    "### Solution to 2(b) using Gradient Descent"
   ]
  },
  {
   "cell_type": "markdown",
   "metadata": {},
   "source": [
    "Base on the result in solution 2(a), we know that the nonlinear relationship between the body mass $x$ and the metabolic rate $y$ is \n",
    "\n",
    "\\begin{equation}\n",
    "6.814723362087358 + 0.6528098912807687 * log(x) = log(y)\n",
    "\\end{equation}"
   ]
  },
  {
   "cell_type": "markdown",
   "metadata": {},
   "source": [
    "### Solution to 2(c) using Gradient Descent"
   ]
  },
  {
   "cell_type": "code",
   "execution_count": 177,
   "metadata": {},
   "outputs": [
    {
     "data": {
      "text/plain": [
       "980009.6707937887"
      ]
     },
     "execution_count": 177,
     "metadata": {},
     "output_type": "execute_result"
    }
   ],
   "source": [
    "# Calculate how many calories are needed for 10 kg weight\n",
    "np.exp(6.814723362087358)* np.power(10,0.6528098912807687) * 1000 / 4.18"
   ]
  },
  {
   "cell_type": "markdown",
   "metadata": {},
   "source": [
    "Therefore, based on the fitted line we know that for an animal weighing 10 kg requires 980009.6707937887 calories"
   ]
  },
  {
   "cell_type": "markdown",
   "metadata": {},
   "source": [
    "### Solution to 2(a) Using Sklearn Package"
   ]
  },
  {
   "cell_type": "markdown",
   "metadata": {},
   "source": [
    "First we plot the dataset to visualize the data as below, the output figure is the same as Figure 5.13 in Chapter 5:"
   ]
  },
  {
   "cell_type": "code",
   "execution_count": 178,
   "metadata": {},
   "outputs": [
    {
     "data": {
      "image/png": "[encoded data removed]",
      "text/plain": [
       "<Figure size 432x288 with 1 Axes>"
      ]
     },
     "metadata": {},
     "output_type": "display_data"
    }
   ],
   "source": [
    "%matplotlib inline\n",
    "# import statements\n",
    "datapath = 'datasets/'\n",
    "from autograd import grad \n",
    "from autograd import numpy as np\n",
    "import numpy as np\n",
    "from sklearn import datasets, linear_model\n",
    "from sklearn.metrics import mean_squared_error, r2_score\n",
    "import matplotlib.pyplot as plt\n",
    "\n",
    "# load in dataset\n",
    "csvname = datapath + 'kleibers_law_data.csv'\n",
    "data = np.loadtxt(csvname,delimiter=',')\n",
    "\n",
    "# get input and output of dataset\n",
    "x = data[:-1,:]\n",
    "y = data[-1:,:] \n",
    "\n",
    "# log of the data \n",
    "x_train = np.log(x)\n",
    "y_train = np.log(y)\n",
    "\n",
    "# plot the data and make sure it is the same as the Figure 2 in the Chapter 5\n",
    "plt.scatter(x_train,y_train)\n",
    "plt.show()\n",
    "\n"
   ]
  },
  {
   "cell_type": "markdown",
   "metadata": {},
   "source": [
    "Then we use scikit-learn package to fit the linear regression model as below:"
   ]
  },
  {
   "cell_type": "code",
   "execution_count": 179,
   "metadata": {},
   "outputs": [
    {
     "name": "stdout",
     "output_type": "stream",
     "text": [
      "w1 : [[0.6528121]]\n",
      "w0 : [6.81473477]\n"
     ]
    }
   ],
   "source": [
    "# Create Linear Regression object\n",
    "regr = linear_model.LinearRegression()\n",
    "\n",
    "# Fit the model using the training sets, remember to transpose the data at first\n",
    "regr.fit(np.transpose(x_train), np.transpose(y_train))\n",
    "\n",
    "# The coefficients\n",
    "print('w1 :',regr.coef_)\n",
    "print('w0 :',regr.intercept_) "
   ]
  },
  {
   "cell_type": "markdown",
   "metadata": {},
   "source": [
    "Therefore the optimal parameters of the model is \n",
    "\\begin{equation}\n",
    "w_1 = 0.6528121 \\\\\n",
    "w_0 = 6.81473477\n",
    "\\end{equation}"
   ]
  },
  {
   "cell_type": "markdown",
   "metadata": {},
   "source": [
    "### Solution to 2(b) Using Sklearn Package"
   ]
  },
  {
   "cell_type": "markdown",
   "metadata": {},
   "source": [
    "Base on the result in solution 2(a), we know that the nonlinear relationship between the body mass $x$ and the metabolic rate $y$ is \n",
    "\n",
    "\\begin{equation}\n",
    "6.81473477 + 0.6528121 * log(x) = log(y)\n",
    "\\end{equation}"
   ]
  },
  {
   "cell_type": "markdown",
   "metadata": {},
   "source": [
    "### Solution to 2(c) Using Sklearn Package"
   ]
  },
  {
   "cell_type": "code",
   "execution_count": 180,
   "metadata": {},
   "outputs": [
    {
     "data": {
      "text/plain": [
       "980025.8348896843"
      ]
     },
     "execution_count": 180,
     "metadata": {},
     "output_type": "execute_result"
    }
   ],
   "source": [
    "# Calculate how many calories are needed for 10 kg weight\n",
    "np.exp(6.81473477)* np.power(10,0.6528121) * 1000 / 4.18"
   ]
  },
  {
   "cell_type": "markdown",
   "metadata": {},
   "source": [
    "Therefore, based on the fitted line we know that for an animal weighing 10 kg requires 980025.8348896843 calories"
   ]
  },
  {
   "cell_type": "markdown",
   "metadata": {},
   "source": [
    "## Exercise 6"
   ]
  },
  {
   "cell_type": "code",
   "execution_count": 182,
   "metadata": {
    "collapsed": true
   },
   "outputs": [],
   "source": [
    "# load in dataset\n",
    "csvname = datapath + 'regression_outliers.csv'\n",
    "data = np.loadtxt(csvname,delimiter = ',')\n",
    "\n",
    "# get input and output of dataset\n",
    "x = data[:-1,:]\n",
    "y = data[-1:,:]"
   ]
  },
  {
   "cell_type": "markdown",
   "metadata": {},
   "source": [
    "First we define the combination of input points and the *Least Squares cost function* for linear regression and *Lesat Absolute Deviations cost function* for linear regression as below:"
   ]
  },
  {
   "cell_type": "code",
   "execution_count": 183,
   "metadata": {
    "collapsed": true
   },
   "outputs": [],
   "source": [
    "# Compute linear combination of input points\n",
    "def model(x,w):\n",
    "    a = w[0] + np.dot(x.T,w[1])\n",
    "    return a.T\n",
    "\n",
    "# Implementation of the least squares cost function for linear regression\n",
    "def least_squares(w):\n",
    "    # Compute the least squares cost\n",
    "        cost = np.sum((model(x,w)-y)**2)\n",
    "        return cost/float(y.size)\n",
    "\n",
    "# Implementation of the least Absolute_Deviations cost function for linear regression\n",
    "def Absolute_Deviations(w):\n",
    "    # Compute the least squares cost\n",
    "        cost = np.sum(abs(model(x,w)-y))\n",
    "        return cost/float(y.size)\n",
    "    \n",
    "g = lambda w: least_squares(w)\n",
    "g_2 = lambda w: Absolute_Deviations(w)"
   ]
  },
  {
   "cell_type": "markdown",
   "metadata": {},
   "source": [
    "Then we define the gradient descent function as below:"
   ]
  },
  {
   "cell_type": "code",
   "execution_count": 184,
   "metadata": {
    "collapsed": true
   },
   "outputs": [],
   "source": [
    "# import automatic differentiator to compute gradient module\n",
    "from autograd import grad \n",
    "import autograd.numpy as np   \n",
    "from autograd import value_and_grad \n",
    "import matplotlib.pyplot as plt\n",
    "\n",
    "# gradient descent function \n",
    "def gradient_descent(g,alpha,max_its,w):\n",
    "    # compute gradient module using autograd\n",
    "    gradient = grad(g)\n",
    "\n",
    "    # run the gradient descent loop\n",
    "    weight_history = [w] # weight history container\n",
    "    cost_history = [g(w)] # cost function history container\n",
    "    for k in range(max_its):\n",
    "        # evaluate the gradient\n",
    "        grad_eval = gradient(w)\n",
    "\n",
    "        # take gradient descent step\n",
    "        w = w - alpha*grad_eval\n",
    "        \n",
    "        # record weight and cost\n",
    "        weight_history.append(w)\n",
    "        cost_history.append(g(w))\n",
    "    return weight_history,cost_history"
   ]
  },
  {
   "cell_type": "markdown",
   "metadata": {},
   "source": [
    "Now we minimize the *Least Squares cost function* and *Least Absolute Deviations cost Function* in the same intialization to compare their performance as below:"
   ]
  },
  {
   "cell_type": "code",
   "execution_count": 185,
   "metadata": {
    "collapsed": true
   },
   "outputs": [],
   "source": [
    "#  Minimizing the LeastSquares costs\n",
    "alpha_choice = 10**(-1); max_its = 100; w = np.array([1.0, 1.0]);\n",
    "weight_history_1,cost_history_1 = gradient_descent(g,alpha_choice,max_its,w)\n",
    "\n",
    "#  Minimizing the LeastAbsoluteDeviation cost \n",
    "alpha_choice = 10**(-1); max_its = 100; w = np.array([1.0, 1.0]);\n",
    "weight_history_1,cost_history_2 = gradient_descent(g_2,alpha_choice,max_its,w)"
   ]
  },
  {
   "cell_type": "markdown",
   "metadata": {},
   "source": [
    "Now we define the cost function history plotter to visualize the cost histories of two cost function as below:"
   ]
  },
  {
   "cell_type": "code",
   "execution_count": 186,
   "metadata": {
    "collapsed": true
   },
   "outputs": [],
   "source": [
    "# the import statement for matplotlib\n",
    "import matplotlib.pyplot as plt\n",
    "\n",
    "# cost function history plotter\n",
    "def plot_cost_histories(cost_histories,labels):\n",
    "    # create figure\n",
    "    plt.figure()\n",
    "    \n",
    "    # loop over cost histories and plot each one\n",
    "    for j in range(len(cost_histories)):\n",
    "        history = cost_histories[j]\n",
    "        label = labels[j]\n",
    "        plt.plot(history,label = label)\n",
    "    plt.legend(loc='center left', bbox_to_anchor=(1, 0.5))\n",
    "    plt.show()"
   ]
  },
  {
   "cell_type": "markdown",
   "metadata": {},
   "source": [
    "Now we plot the cost histories of two cost function in the same canvas, which is the same as $Figure$ 5.7 in Chapter 5:"
   ]
  },
  {
   "cell_type": "code",
   "execution_count": 187,
   "metadata": {
    "scrolled": true
   },
   "outputs": [
    {
     "data": {
      "image/png": "[encoded data removed]",
      "text/plain": [
       "<Figure size 432x288 with 1 Axes>"
      ]
     },
     "metadata": {},
     "output_type": "display_data"
    }
   ],
   "source": [
    "plot_cost_histories([cost_history_1,cost_history_2],labels = [r'Least Square',r'Least Absolute Deviations'])"
   ]
  },
  {
   "cell_type": "markdown",
   "metadata": {},
   "source": [
    "We can see that the cost function value of the Least Absolute Deviations cost is considerably lower than that of Least Squares."
   ]
  },
  {
   "cell_type": "markdown",
   "metadata": {},
   "source": [
    "## Exercise 7"
   ]
  },
  {
   "cell_type": "markdown",
   "metadata": {},
   "source": [
    "Repeat the experiment outlined in Example 5.7. You can use the implementation described in Section 5.5.3 as a base for your implementation."
   ]
  },
  {
   "cell_type": "code",
   "execution_count": 69,
   "metadata": {},
   "outputs": [],
   "source": [
    "# import statements\n",
    "datapath = 'datasets/'\n",
    "import autograd.numpy as np \n",
    "from autograd import value_and_grad \n",
    "from mpl_toolkits.mplot3d import Axes3D\n",
    "import matplotlib.pyplot as plt\n",
    "import numpy as np\n",
    "\n",
    "# load in dataset\n",
    "csvname = datapath + 'linear_2output_regression.csv'\n",
    "data = np.loadtxt(csvname,delimiter=',')\n",
    "\n",
    "# get input and output of dataset\n",
    "x = data[:2,:]\n",
    "y = data[2:,:]"
   ]
  },
  {
   "cell_type": "markdown",
   "metadata": {},
   "source": [
    "First we visualize the dataset as below:"
   ]
  },
  {
   "cell_type": "code",
   "execution_count": 70,
   "metadata": {},
   "outputs": [
    {
     "name": "stderr",
     "output_type": "stream",
     "text": [
      "/anaconda/envs/py35/lib/python3.5/site-packages/mpl_toolkits/mplot3d/art3d.py:726: FutureWarning: elementwise comparison failed; returning scalar instead, but in the future will perform elementwise comparison\n",
      "  if zdir == 'x':\n",
      "/anaconda/envs/py35/lib/python3.5/site-packages/mpl_toolkits/mplot3d/art3d.py:728: FutureWarning: elementwise comparison failed; returning scalar instead, but in the future will perform elementwise comparison\n",
      "  elif zdir == 'y':\n"
     ]
    },
    {
     "data": {
      "image/png": "[encoded data removed]",
      "text/plain": [
       "<Figure size 432x288 with 1 Axes>"
      ]
     },
     "metadata": {},
     "output_type": "display_data"
    }
   ],
   "source": [
    "# Visualize the dataset\n",
    "fig = plt.figure()\n",
    "ax = fig.add_subplot(111, projection='3d')\n",
    "ax.scatter(x[0], x[1], y[0], y[1], cmap=plt.hot())\n",
    "plt.show()"
   ]
  },
  {
   "cell_type": "markdown",
   "metadata": {},
   "source": [
    "Then we define the linear combination of input point and the least squares cost function for linear regression as below:"
   ]
  },
  {
   "cell_type": "code",
   "execution_count": 71,
   "metadata": {},
   "outputs": [],
   "source": [
    "# compute linear combination of input point\n",
    "def model(x,w):\n",
    "    a = w[0] + np.dot(x.T,w[1:])\n",
    "    return a.T"
   ]
  },
  {
   "cell_type": "code",
   "execution_count": 72,
   "metadata": {},
   "outputs": [],
   "source": [
    "# Implementation of the least squares cost function for linear regression\n",
    "def least_squares(w):\n",
    "    # Compute the least squares cost\n",
    "        cost = np.sum((model(x,w)-y)**2)\n",
    "        return cost/float(y.size)\n",
    "    \n",
    "g = lambda w: least_squares(w)"
   ]
  },
  {
   "cell_type": "markdown",
   "metadata": {},
   "source": [
    "Now we define the gradient descent function and minimize the least square cost by choosing $\\alpha =10^{-1}$, max iteration = 300 and random intialization as below:"
   ]
  },
  {
   "cell_type": "code",
   "execution_count": 73,
   "metadata": {},
   "outputs": [],
   "source": [
    "from autograd import grad \n",
    "import autograd.numpy as np   \n",
    "from autograd import value_and_grad \n",
    "import matplotlib.pyplot as plt\n",
    "\n",
    "# gradient descent function \n",
    "def gradient_descent(g,alpha,max_its,w):\n",
    "    # compute gradient module using autograd\n",
    "    gradient = grad(g)\n",
    "\n",
    "    # run the gradient descent loop\n",
    "    weight_history = [w] # weight history container\n",
    "    cost_history = [g(w)] # cost function history container\n",
    "    for k in range(max_its):\n",
    "        # evaluate the gradient\n",
    "        grad_eval = gradient(w)\n",
    "\n",
    "        # take gradient descent step\n",
    "        w = w - alpha*grad_eval\n",
    "        \n",
    "        # record weight and cost\n",
    "        weight_history.append(w)\n",
    "        cost_history.append(g(w))\n",
    "    return weight_history,cost_history\n",
    "\n",
    "\n",
    "#  Minimizing the LeastSquares costs\n",
    "alpha_choice = 10**(-1); max_its = 300; w = np.random.randn(3,2);\n",
    "weight_history_1,cost_history_1 = gradient_descent(g,alpha_choice,max_its,w)"
   ]
  },
  {
   "cell_type": "markdown",
   "metadata": {},
   "source": [
    "Now we can plot the cost history of least squares cost function:"
   ]
  },
  {
   "cell_type": "code",
   "execution_count": 74,
   "metadata": {},
   "outputs": [],
   "source": [
    "# the import statement for matplotlib\n",
    "import matplotlib.pyplot as plt\n",
    "\n",
    "# cost function history plotter\n",
    "def plot_cost_histories(cost_histories,labels):\n",
    "    # create figure\n",
    "    plt.figure()\n",
    "    \n",
    "    # loop over cost histories and plot each one\n",
    "    for j in range(len(cost_histories)):\n",
    "        history = cost_histories[j]\n",
    "        label = labels[j]\n",
    "        plt.plot(history,label = label)\n",
    "    plt.legend(loc='center left', bbox_to_anchor=(1, 0.5))\n",
    "    plt.show()"
   ]
  },
  {
   "cell_type": "code",
   "execution_count": 75,
   "metadata": {},
   "outputs": [
    {
     "data": {
      "image/png": "[encoded data removed]",
      "text/plain": [
       "<Figure size 432x288 with 1 Axes>"
      ]
     },
     "metadata": {},
     "output_type": "display_data"
    }
   ],
   "source": [
    "plot_cost_histories([cost_history_1],labels = [r'Least Square'])"
   ]
  },
  {
   "cell_type": "markdown",
   "metadata": {},
   "source": [
    "Now we print the last step cost history as below:"
   ]
  },
  {
   "cell_type": "code",
   "execution_count": 76,
   "metadata": {},
   "outputs": [
    {
     "data": {
      "text/plain": [
       "0.008950322143255585"
      ]
     },
     "execution_count": 76,
     "metadata": {},
     "output_type": "execute_result"
    }
   ],
   "source": [
    "cost_history_1[-1]"
   ]
  },
  {
   "cell_type": "markdown",
   "metadata": {},
   "source": [
    "Now we print the the optimal parameter of the linear regression after gradient descent as below:"
   ]
  },
  {
   "cell_type": "code",
   "execution_count": 77,
   "metadata": {},
   "outputs": [
    {
     "data": {
      "text/plain": [
       "array([[ 0.62658371,  0.24032705],\n",
       "       [ 0.28675329,  0.33716245],\n",
       "       [ 0.42051067, -0.7019349 ]])"
      ]
     },
     "execution_count": 77,
     "metadata": {},
     "output_type": "execute_result"
    }
   ],
   "source": [
    "weight_history_1[-1]"
   ]
  },
  {
   "cell_type": "markdown",
   "metadata": {},
   "source": [
    "Now we transpose the optimal parameter in order to get $w_{0}$, $w_{1}$, $w_{2}$ of the hyperplane function:"
   ]
  },
  {
   "cell_type": "code",
   "execution_count": 78,
   "metadata": {},
   "outputs": [],
   "source": [
    "b = weight_history_1[-1].T"
   ]
  },
  {
   "cell_type": "markdown",
   "metadata": {},
   "source": [
    "Now we plot the input and one output value in the same canvas as below:"
   ]
  },
  {
   "cell_type": "code",
   "execution_count": 79,
   "metadata": {},
   "outputs": [
    {
     "data": {
      "image/png": "[encoded data removed]",
      "text/plain": [
       "<Figure size 432x288 with 1 Axes>"
      ]
     },
     "metadata": {},
     "output_type": "display_data"
    }
   ],
   "source": [
    "import numpy as np\n",
    "import matplotlib.pyplot as plt\n",
    "from mpl_toolkits.mplot3d import Axes3D\n",
    "\n",
    "# define the hyperplane based on one ouput\n",
    "def plane(x, y):\n",
    "    result=b[0][1]* x + b[0][2] * y + b[0][0]\n",
    "    return result\n",
    "    \n",
    "mesh_size = np.linspace(0,1,30)\n",
    "\n",
    "xx,yy = np.meshgrid(mesh_size,mesh_size)\n",
    "\n",
    "# plot the surface\n",
    "fig = plt.figure()\n",
    "ax = plt.axes(projection='3d')\n",
    "ax.contour3D(xx, yy, plane(xx,yy),50,cmap='binary',alpha=0.5)\n",
    "ax.view_init(-25,260)\n",
    "\n",
    "for i in range(x.shape[1]):\n",
    "    if (plane(x[0][i],x[1][i]) - y[0][i] >= 0):\n",
    "        ax.scatter(x[0][i],x[1][i],y[0][i],c = 'red')\n",
    "    else:\n",
    "        ax.scatter(x[0][i],x[1][i],y[0][i],c = 'green')\n",
    "    \n",
    "plt.show()"
   ]
  },
  {
   "cell_type": "markdown",
   "metadata": {},
   "source": [
    "Now we plot the input and the other output value in the same canvas as below:"
   ]
  },
  {
   "cell_type": "code",
   "execution_count": 80,
   "metadata": {},
   "outputs": [
    {
     "data": {
      "image/png": "[encoded data removed]",
      "text/plain": [
       "<Figure size 432x288 with 1 Axes>"
      ]
     },
     "metadata": {},
     "output_type": "display_data"
    }
   ],
   "source": [
    "import numpy as np\n",
    "import matplotlib.pyplot as plt\n",
    "from mpl_toolkits.mplot3d import Axes3D\n",
    "\n",
    "\n",
    "# define the hyperplane based on the other ouput\n",
    "def plane(x, y):\n",
    "    result=b[1][1]* x + b[1][2] * y + b[1][0]\n",
    "    return result\n",
    "    \n",
    "mesh_size = np.linspace(0,1,30)\n",
    "\n",
    "xx,yy = np.meshgrid(mesh_size,mesh_size)\n",
    "\n",
    "# plot the surface\n",
    "fig = plt.figure()\n",
    "ax = plt.axes(projection='3d')\n",
    "ax.contour3D(xx, yy, plane(xx,yy),50,cmap='binary',alpha=0.5)\n",
    "ax.view_init(30,260)\n",
    "\n",
    "for i in range(x.shape[1]):\n",
    "    if (plane(x[0][i],x[1][i]) - y[1][i] >= 0):\n",
    "        ax.scatter(x[0][i],x[1][i],y[1][i],c = 'red')\n",
    "    else:\n",
    "        ax.scatter(x[0][i],x[1][i],y[1][i],c = 'green')\n",
    "    \n",
    "plt.show()"
   ]
  },
  {
   "cell_type": "markdown",
   "metadata": {},
   "source": [
    "Now we define the multi-output regressions plotter to reproduce the $Figure$ 5.11"
   ]
  },
  {
   "cell_type": "code",
   "execution_count": 81,
   "metadata": {},
   "outputs": [],
   "source": [
    "# plot multi-output regression dataset with fits provided by 'predictor'\n",
    "def plot_regressions(x,y,predictor):\n",
    "    # import all the requisite libs\n",
    "    # construct panels\n",
    "    fig = plt.figure(figsize = (9,4))\n",
    "    ax0 = plt.subplot(121,projection='3d')\n",
    "    ax0.view_init(25,45)\n",
    "    ax0.axis('off')\n",
    "\n",
    "    ax1 = plt.subplot(122,projection='3d')\n",
    "    ax1.view_init(25,45)\n",
    "    ax1.axis('off')\n",
    "\n",
    "    # scatter plot data in each panel\n",
    "    ax0.scatter(x[0,:],x[1,:],y[0,:],c='k',edgecolor = 'w',linewidth = 1,s=60)\n",
    "    ax1.scatter(x[0,:],x[1,:],y[1,:],c='k',edgecolor = 'w',linewidth = 1,s=60)\n",
    "\n",
    "    # construct input for each model fit\n",
    "    a_ = np.linspace(0,1,10)\n",
    "    a,b = np.meshgrid(a_,a_)\n",
    "    a = a.flatten()[np.newaxis,:]\n",
    "    b = b.flatten()[np.newaxis,:]\n",
    "    c = np.vstack((a,b))\n",
    "    \n",
    "    # add bias term w_0\n",
    "    bias = np.ones((1,c.shape[1]))\n",
    "    c = np.vstack((bias,c))\n",
    "    \n",
    "    \n",
    "    # evaluate model \n",
    "    p = predictor(c)\n",
    "    m1 = p[0,:]\n",
    "    m2 = p[1,:]\n",
    "\n",
    "    # plot each as surface\n",
    "    a.shape = (a_.size,a_.size)\n",
    "    b.shape = (a_.size,a_.size)\n",
    "    m1.shape = (a_.size,a_.size)\n",
    "    m2.shape = (a_.size,a_.size)\n",
    "\n",
    "    ax0.plot_surface(a,b,m1,alpha = 0.1,color = 'lime',cstride = 2,rstride = 2,linewidth = 1,edgecolor ='k')\n",
    "    ax1.plot_surface(a,b,m2,alpha = 0.1,color = 'lime',cstride = 2,rstride = 2,linewidth = 1,edgecolor ='k')\n",
    "\n",
    "    plt.show()"
   ]
  },
  {
   "cell_type": "markdown",
   "metadata": {},
   "source": [
    "Now we can reproduce the $Figure$ 5.11 in Chapter 5 as below: "
   ]
  },
  {
   "cell_type": "code",
   "execution_count": 82,
   "metadata": {},
   "outputs": [
    {
     "data": {
      "image/png": "[encoded data removed]",
      "text/plain": [
       "<Figure size 648x288 with 2 Axes>"
      ]
     },
     "metadata": {},
     "output_type": "display_data"
    }
   ],
   "source": [
    "x = data[:2,:]\n",
    "predicator = lambda w : np.dot(weight_history_1[-1].T,w)\n",
    "plot_regressions(x,y,predicator)"
   ]
  },
  {
   "cell_type": "markdown",
   "metadata": {},
   "source": [
    " # Chapter 6"
   ]
  },
  {
   "cell_type": "markdown",
   "metadata": {},
   "source": [
    "Complete exercises 7, 8, 9, and 14 from Chapter 6 - make sure to download the most recent version of the text.  Below we load in each dataset."
   ]
  },
  {
   "cell_type": "markdown",
   "metadata": {},
   "source": [
    "## Exercise 7"
   ]
  },
  {
   "cell_type": "code",
   "execution_count": 204,
   "metadata": {
    "collapsed": true
   },
   "outputs": [],
   "source": [
    "# import statements\n",
    "datapath = 'datasets/'\n",
    "from autograd import numpy as np\n",
    "# load in dataset\n",
    "csvname = datapath + '2d_classification_data_v1.csv'\n",
    "data = np.loadtxt(csvname,delimiter = ',')\n",
    "\n",
    "# get input and output of dataset\n",
    "x = data[:-1,:]\n",
    "y = data[-1:,:] "
   ]
  },
  {
   "cell_type": "markdown",
   "metadata": {},
   "source": [
    "First we define the linear combination of input point and the conve softmax cost function as below:"
   ]
  },
  {
   "cell_type": "code",
   "execution_count": 205,
   "metadata": {
    "collapsed": true
   },
   "outputs": [],
   "source": [
    "# compute linear combination of input point\n",
    "def model(x,w):\n",
    "    a = w[0] + np.dot(x.T,w[1:]) \n",
    "    return a.T\n",
    "\n",
    "# the convex softmax cost function\n",
    "def softmax(w):\n",
    "    cost = np.sum(np.log(1 + np.exp(-y*model(x,w))))\n",
    "    return cost/float(np.size(y))\n",
    "\n",
    "g = lambda w: softmax(w)"
   ]
  },
  {
   "cell_type": "markdown",
   "metadata": {},
   "source": [
    "Then we define the gradient descent function as below:"
   ]
  },
  {
   "cell_type": "code",
   "execution_count": 206,
   "metadata": {
    "collapsed": true
   },
   "outputs": [],
   "source": [
    "from autograd import grad \n",
    "import autograd.numpy as np   \n",
    "from autograd import value_and_grad \n",
    "import matplotlib.pyplot as plt\n",
    "\n",
    "# gradient descent function \n",
    "def gradient_descent(g,alpha,max_its,w):\n",
    "    # compute gradient module using autograd\n",
    "    gradient = grad(g)\n",
    "\n",
    "    # run the gradient descent loop\n",
    "    weight_history = [w] # weight history container\n",
    "    cost_history = [g(w)] # cost function history container\n",
    "    for k in range(max_its):\n",
    "        # evaluate the gradient\n",
    "        grad_eval = gradient(w)\n",
    "\n",
    "        # take gradient descent step\n",
    "        w = w - alpha*grad_eval\n",
    "        \n",
    "        # record weight and cost\n",
    "        weight_history.append(w)\n",
    "        cost_history.append(g(w))\n",
    "    return weight_history,cost_history\n"
   ]
  },
  {
   "cell_type": "markdown",
   "metadata": {},
   "source": [
    "Now we can minimize the softmax cost function as below:"
   ]
  },
  {
   "cell_type": "code",
   "execution_count": 207,
   "metadata": {
    "collapsed": true
   },
   "outputs": [],
   "source": [
    "#  Minimizing the softmax cost costs\n",
    "\n",
    "# alpha = 0.1, iteration = 10000\n",
    "#alpha_choice = 10**(-1); max_its = 10000;w = np.array([3.0,3.0]);\n",
    "#weight_history_1,cost_history_1 = gradient_descent(g,alpha_choice,max_its,w)\n",
    "\n",
    "# alpha = 1, iteration = 2000\n",
    "alpha_choice = 10**(0); max_its = 2000;w = np.array([3.0,3.0]);\n",
    "weight_history_2,cost_history_2 = gradient_descent(g,alpha_choice,max_its,w)"
   ]
  },
  {
   "cell_type": "markdown",
   "metadata": {},
   "source": [
    "Now we can print the weight of the last step, which represent as the optimal weight parameters after gradient descent:  "
   ]
  },
  {
   "cell_type": "code",
   "execution_count": 208,
   "metadata": {},
   "outputs": [
    {
     "data": {
      "text/plain": [
       "array([-11.40508017,  10.99794873])"
      ]
     },
     "execution_count": 208,
     "metadata": {},
     "output_type": "execute_result"
    }
   ],
   "source": [
    "weight_history_2[-1]"
   ]
  },
  {
   "cell_type": "markdown",
   "metadata": {},
   "source": [
    "Now we can plot the data point and the regression in the same canvas, which is the same as the left panel of $Figure$ 6.10 in Chapter 6:"
   ]
  },
  {
   "cell_type": "code",
   "execution_count": 209,
   "metadata": {},
   "outputs": [
    {
     "data": {
      "image/png": "[encoded data removed]",
      "text/plain": [
       "<Figure size 432x288 with 1 Axes>"
      ]
     },
     "metadata": {},
     "output_type": "display_data"
    }
   ],
   "source": [
    "import numpy as np\n",
    "import matplotlib.pyplot as plt\n",
    "\n",
    "plt.scatter(x, y)\n",
    "xx = np.arange(-1,5,.0001)\n",
    "yy = np.tanh(weight_history_2[-1][1] * xx + weight_history_2[-1][0])\n",
    "plt.plot(xx,yy)\n",
    "plt.show()"
   ]
  },
  {
   "cell_type": "markdown",
   "metadata": {},
   "source": [
    "## Exercise 8"
   ]
  },
  {
   "cell_type": "code",
   "execution_count": 210,
   "metadata": {
    "collapsed": true
   },
   "outputs": [],
   "source": [
    "# import statements\n",
    "datapath = 'datasets/'\n",
    "from autograd import numpy as np\n",
    "# load in dataset\n",
    "csvname = datapath + '3d_classification_data_v0.csv'\n",
    "data = np.loadtxt(csvname,delimiter = ',')\n",
    "\n",
    "# get input and output of dataset\n",
    "x = data[:-1,:]\n",
    "y = data[-1:,:] "
   ]
  },
  {
   "cell_type": "markdown",
   "metadata": {},
   "source": [
    "First we define the linear combination of input point and the *Log Error based Softmax cost function* as below:"
   ]
  },
  {
   "cell_type": "code",
   "execution_count": 211,
   "metadata": {
    "collapsed": true
   },
   "outputs": [],
   "source": [
    "# compute linear combination of input point\n",
    "def model(x,w):\n",
    "    a = w[0] + np.dot(x.T,w[1:]) \n",
    "    return a.T\n",
    "\n",
    "# define sigmoid function\n",
    "def sigmoid(t):\n",
    "    return 1/(1 + np.exp(-t))\n",
    "\n",
    "# the log error based softmax cost function\n",
    "def log_error_softmax(w):\n",
    "    # compute sigmoid of model\n",
    "    a = sigmoid(model(x,w))\n",
    "    b = sigmoid(- model(x,w))\n",
    "    \n",
    "    # compute cost of label -1 points\n",
    "    ind = np.argwhere(y == -1)[:,1]\n",
    "    cost= -np.sum(np.log(b[:,ind]))\n",
    "    \n",
    "    # compute cost of label 1 points\n",
    "    ind = np.argwhere(y == 1)[:,1]\n",
    "    cost -= np.sum(np.log(a[:,ind]))\n",
    "    \n",
    "    return cost/y.size\n",
    "\n",
    "g = lambda w: log_error_softmax(w)"
   ]
  },
  {
   "cell_type": "markdown",
   "metadata": {},
   "source": [
    "Then we define the gradient descent function to minimize the cost function:"
   ]
  },
  {
   "cell_type": "code",
   "execution_count": 212,
   "metadata": {
    "collapsed": true
   },
   "outputs": [],
   "source": [
    "from autograd import grad \n",
    "import autograd.numpy as np   \n",
    "from autograd import value_and_grad \n",
    "import matplotlib.pyplot as plt\n",
    "\n",
    "# gradient descent function \n",
    "def gradient_descent(g,alpha,max_its,w):\n",
    "    # compute gradient module using autograd\n",
    "    gradient = grad(g)\n",
    "\n",
    "    # run the gradient descent loop\n",
    "    weight_history = [w] # weight history container\n",
    "    cost_history = [g(w)] # cost function history container\n",
    "    for k in range(max_its):\n",
    "        # evaluate the gradient\n",
    "        grad_eval = gradient(w)\n",
    "\n",
    "        # take gradient descent step\n",
    "        w = w - alpha*grad_eval\n",
    "        \n",
    "        # record weight and cost\n",
    "        weight_history.append(w)\n",
    "        cost_history.append(g(w))\n",
    "    return weight_history,cost_history"
   ]
  },
  {
   "cell_type": "markdown",
   "metadata": {},
   "source": [
    "Now we can minimize the *Log Error based Softmax cost funtion*. Here we use the fixed intialization as $w = (0.02060605,-0.20765506,-1.07492087)$ since after parameter tuning, I find that when the intialization is the same as below and the max iteration is 50 and $\\alpha = 10^{-1}$, I can make the misclassification number down to 3:"
   ]
  },
  {
   "cell_type": "code",
   "execution_count": 213,
   "metadata": {
    "collapsed": true
   },
   "outputs": [],
   "source": [
    "#  Minimizing the log error based softmax cost\n",
    "\n",
    "# this initalization achieves from parameter tuning and it can make the number of misclassification down to 3\n",
    "w = np.array([[ 0.02060605],\n",
    "       [-0.20765506],\n",
    "       [-1.07492087]])\n",
    "\n",
    "alpha_choice = 10**(-1); max_its = 50; w;\n",
    "weight_history_1,cost_history_1 = gradient_descent(g,alpha_choice,max_its,w)"
   ]
  },
  {
   "cell_type": "markdown",
   "metadata": {},
   "source": [
    "Now we print the intialization parameter to know exactly what intialization has been used in this experiment:"
   ]
  },
  {
   "cell_type": "code",
   "execution_count": 214,
   "metadata": {},
   "outputs": [
    {
     "data": {
      "text/plain": [
       "array([[ 0.02060605],\n",
       "       [-0.20765506],\n",
       "       [-1.07492087]])"
      ]
     },
     "execution_count": 214,
     "metadata": {},
     "output_type": "execute_result"
    }
   ],
   "source": [
    "# Confirm the exact value of randomizing w\n",
    "w"
   ]
  },
  {
   "cell_type": "markdown",
   "metadata": {},
   "source": [
    "Now we define the trained model quality function to evaluate the performance of model based on the number of misclassifications:"
   ]
  },
  {
   "cell_type": "code",
   "execution_count": 215,
   "metadata": {
    "collapsed": true
   },
   "outputs": [],
   "source": [
    "# trained_model_quality function\n",
    "\n",
    "def trained_model_quality(weight_history,max_its):    \n",
    "    misclassifications_history = [] # misclassification history container\n",
    "    for k in range(max_its): # for each step\n",
    "        num_misclassification = 0\n",
    "        yhat = np.sign(model(x, weight_history[k]))\n",
    "        for j in range(len(y.T)): # for each y\n",
    "            if yhat[0][j] != y[0][j]:# determine whether yhat = y, if not, it means misclassification\n",
    "                num_misclassification = num_misclassification + 1\n",
    "        misclassifications_history.append(num_misclassification)\n",
    "    return misclassifications_history"
   ]
  },
  {
   "cell_type": "markdown",
   "metadata": {},
   "source": [
    "Now we print the optimal weight after gradient descent as below:"
   ]
  },
  {
   "cell_type": "code",
   "execution_count": 216,
   "metadata": {},
   "outputs": [
    {
     "data": {
      "text/plain": [
       "array([[-0.22069568],\n",
       "       [ 0.88740827],\n",
       "       [-0.9597283 ]])"
      ]
     },
     "execution_count": 216,
     "metadata": {},
     "output_type": "execute_result"
    }
   ],
   "source": [
    "weight_history_1[-1]"
   ]
  },
  {
   "cell_type": "markdown",
   "metadata": {},
   "source": [
    "Now we calculate the misclassification history of each step:"
   ]
  },
  {
   "cell_type": "code",
   "execution_count": 217,
   "metadata": {
    "collapsed": true
   },
   "outputs": [],
   "source": [
    "misclassification_history_1 = trained_model_quality(weight_history_1,max_its = 50)"
   ]
  },
  {
   "cell_type": "markdown",
   "metadata": {},
   "source": [
    "Now we print the misclassification history of each step. In the last line of the output shows that the final step achieves only 3 misclassifications:"
   ]
  },
  {
   "cell_type": "code",
   "execution_count": 218,
   "metadata": {},
   "outputs": [
    {
     "data": {
      "text/plain": [
       "[36,\n",
       " 36,\n",
       " 36,\n",
       " 35,\n",
       " 35,\n",
       " 34,\n",
       " 33,\n",
       " 33,\n",
       " 30,\n",
       " 30,\n",
       " 30,\n",
       " 30,\n",
       " 30,\n",
       " 29,\n",
       " 29,\n",
       " 27,\n",
       " 27,\n",
       " 26,\n",
       " 25,\n",
       " 24,\n",
       " 22,\n",
       " 22,\n",
       " 20,\n",
       " 19,\n",
       " 19,\n",
       " 19,\n",
       " 18,\n",
       " 17,\n",
       " 17,\n",
       " 16,\n",
       " 16,\n",
       " 15,\n",
       " 12,\n",
       " 12,\n",
       " 11,\n",
       " 11,\n",
       " 11,\n",
       " 10,\n",
       " 9,\n",
       " 9,\n",
       " 7,\n",
       " 6,\n",
       " 6,\n",
       " 6,\n",
       " 6,\n",
       " 4,\n",
       " 4,\n",
       " 4,\n",
       " 4,\n",
       " 3]"
      ]
     },
     "execution_count": 218,
     "metadata": {},
     "output_type": "execute_result"
    }
   ],
   "source": [
    "misclassification_history_1"
   ]
  },
  {
   "cell_type": "markdown",
   "metadata": {},
   "source": [
    "In order to make sure the misclassification number is correct, we calculate the prediction of $y$ based on the optimal weights which is at the last line of weight_history_1, and then we print out the prediction of $y$ as $\\mathop y\\limits^ \\wedge$ and the groundtrue data $y$ to compare then one by one:"
   ]
  },
  {
   "cell_type": "code",
   "execution_count": 219,
   "metadata": {
    "collapsed": true
   },
   "outputs": [],
   "source": [
    "# Calculate the prediction of y as yhat based on the optimal weights parameter\n",
    "yhat = np.sign(model(x, weight_history_1[-1]))"
   ]
  },
  {
   "cell_type": "code",
   "execution_count": 220,
   "metadata": {},
   "outputs": [
    {
     "data": {
      "text/plain": [
       "array([[ 1.,  1.,  1., -1.,  1., -1., -1.,  1.,  1.,  1., -1., -1.,  1.,\n",
       "        -1.,  1., -1.,  1., -1., -1.,  1.,  1., -1.,  1.,  1., -1.,  1.,\n",
       "         1., -1.,  1., -1., -1.,  1., -1.,  1., -1.,  1., -1., -1., -1.,\n",
       "        -1., -1.,  1., -1., -1., -1.,  1., -1., -1., -1.,  1., -1., -1.,\n",
       "        -1., -1.,  1.,  1.,  1., -1., -1.,  1., -1., -1., -1.,  1.,  1.,\n",
       "         1., -1.,  1., -1.,  1., -1.,  1.,  1., -1., -1., -1., -1., -1.,\n",
       "        -1.,  1., -1.,  1.,  1., -1., -1., -1., -1.,  1.,  1., -1., -1.,\n",
       "         1.,  1., -1.,  1., -1., -1., -1., -1.,  1.]])"
      ]
     },
     "execution_count": 220,
     "metadata": {},
     "output_type": "execute_result"
    }
   ],
   "source": [
    "# Print the prediction of y\n",
    "yhat"
   ]
  },
  {
   "cell_type": "code",
   "execution_count": 221,
   "metadata": {},
   "outputs": [
    {
     "data": {
      "text/plain": [
       "array([[ 1.,  1., -1., -1.,  1., -1., -1.,  1.,  1.,  1., -1., -1.,  1.,\n",
       "        -1.,  1., -1., -1.,  1., -1.,  1.,  1., -1.,  1.,  1., -1.,  1.,\n",
       "         1., -1.,  1., -1., -1.,  1., -1.,  1., -1.,  1., -1., -1., -1.,\n",
       "        -1., -1.,  1., -1., -1., -1.,  1., -1., -1., -1.,  1., -1., -1.,\n",
       "        -1., -1.,  1.,  1.,  1., -1., -1.,  1., -1., -1., -1.,  1.,  1.,\n",
       "         1., -1.,  1., -1.,  1., -1.,  1.,  1., -1., -1., -1., -1., -1.,\n",
       "        -1.,  1., -1.,  1.,  1., -1., -1., -1., -1.,  1.,  1., -1., -1.,\n",
       "         1.,  1., -1.,  1., -1., -1., -1., -1.,  1.]])"
      ]
     },
     "execution_count": 221,
     "metadata": {},
     "output_type": "execute_result"
    }
   ],
   "source": [
    "# Print the groundtrue of y\n",
    "y"
   ]
  },
  {
   "cell_type": "markdown",
   "metadata": {},
   "source": [
    "Now we find that where yhat is not equal to y as below and there are only 3 misclassifications:"
   ]
  },
  {
   "cell_type": "code",
   "execution_count": 222,
   "metadata": {},
   "outputs": [
    {
     "data": {
      "text/plain": [
       "array([-1., -1.,  1.])"
      ]
     },
     "execution_count": 222,
     "metadata": {},
     "output_type": "execute_result"
    }
   ],
   "source": [
    "y[np.where(yhat != y)]"
   ]
  },
  {
   "cell_type": "markdown",
   "metadata": {},
   "source": [
    "Finally we can confirm that based on the initialization and parameters above, the final misclassification can be down to 3, which is less than 5."
   ]
  },
  {
   "cell_type": "markdown",
   "metadata": {},
   "source": [
    "## Exercise 9"
   ]
  },
  {
   "cell_type": "code",
   "execution_count": 101,
   "metadata": {
    "collapsed": true
   },
   "outputs": [],
   "source": [
    "# import statements\n",
    "datapath = 'datasets/'\n",
    "from autograd import numpy as np\n",
    "# load in dataset\n",
    "csvname = datapath + '3d_classification_data_v0.csv'\n",
    "data = np.loadtxt(csvname,delimiter = ',')\n",
    "\n",
    "# get input and output of dataset\n",
    "x = data[:-1,:]\n",
    "y = data[-1:,:] "
   ]
  },
  {
   "cell_type": "markdown",
   "metadata": {},
   "source": [
    "First we define the linear combination of input point and *Perceptron cost function* as below:"
   ]
  },
  {
   "cell_type": "code",
   "execution_count": 102,
   "metadata": {
    "collapsed": true
   },
   "outputs": [],
   "source": [
    "# compute linear combination of input point\n",
    "def model(x,w):\n",
    "    a = w[0] + np.dot(x.T,w[1:]) \n",
    "    return a.T\n",
    "\n",
    "# percetron cost funciton\n",
    "def perceptron_cost(w):\n",
    "    cost = np.sum(np.maximum(0,-y*model(x,w)))\n",
    "    return cost/float(np.size(y))\n",
    "\n",
    "g = lambda w: perceptron_cost(w)"
   ]
  },
  {
   "cell_type": "markdown",
   "metadata": {},
   "source": [
    "Then we define the gradient descent function as below:"
   ]
  },
  {
   "cell_type": "code",
   "execution_count": 103,
   "metadata": {
    "collapsed": true
   },
   "outputs": [],
   "source": [
    "from autograd import grad \n",
    "import autograd.numpy as np   \n",
    "from autograd import value_and_grad \n",
    "import matplotlib.pyplot as plt\n",
    "\n",
    "# gradient descent function \n",
    "def gradient_descent(g,alpha,max_its,w):\n",
    "    # compute gradient module using autograd\n",
    "    gradient = grad(g)\n",
    "\n",
    "    # run the gradient descent loop\n",
    "    weight_history = [w] # weight history container\n",
    "    cost_history = [g(w)] # cost function history container\n",
    "    for k in range(max_its):\n",
    "        # evaluate the gradient\n",
    "        grad_eval = gradient(w)\n",
    "\n",
    "        # take gradient descent step\n",
    "        w = w - alpha*grad_eval\n",
    "        \n",
    "        # record weight and cost\n",
    "        weight_history.append(w)\n",
    "        cost_history.append(g(w))\n",
    "    return weight_history,cost_history"
   ]
  },
  {
   "cell_type": "markdown",
   "metadata": {},
   "source": [
    "Now we can minimize the cost when $\\alpha = 10^{-1}$ and $\\alpha = 10^{-2}$. Since we want to compare the performance of these two $\\alpha$, we need to use the same max iteration number as 50 and same random intialization as below:"
   ]
  },
  {
   "cell_type": "code",
   "execution_count": 104,
   "metadata": {
    "collapsed": true
   },
   "outputs": [],
   "source": [
    "#  Minimizing the costs when alpha = 10^(-1) and alpha = 10^(-2)\n",
    "\n",
    "'''If you want to reproduce the result as below, used the w = np.array([[-0.1930888 ],\n",
    "                                                                       [-2.11382325],\n",
    "                                                                       [-1.6177147 ]])'''\n",
    "\n",
    "alpha_choice = 10**(-1); max_its = 50;w = np.random.randn(3,1);\n",
    "weight_history_1,cost_history_1 = gradient_descent(g,alpha_choice,max_its,w)\n",
    "\n",
    "alpha_choice = 10**(-2); max_its = 50;w ; # use the same intialization as when alpha = 10^(-1)\n",
    "weight_history_2,cost_history_2 = gradient_descent(g,alpha_choice,max_its,w)"
   ]
  },
  {
   "cell_type": "markdown",
   "metadata": {},
   "source": [
    "Now we print the random intialization to know exactly what have been used in this experiment:"
   ]
  },
  {
   "cell_type": "code",
   "execution_count": 105,
   "metadata": {},
   "outputs": [
    {
     "data": {
      "text/plain": [
       "array([[-0.1930888 ],\n",
       "       [-2.11382325],\n",
       "       [-1.6177147 ]])"
      ]
     },
     "execution_count": 105,
     "metadata": {},
     "output_type": "execute_result"
    }
   ],
   "source": [
    "w"
   ]
  },
  {
   "cell_type": "markdown",
   "metadata": {},
   "source": [
    "Then we define the cost function history plotter function in order to visualize the cost histories of each $\\alpha$"
   ]
  },
  {
   "cell_type": "code",
   "execution_count": 106,
   "metadata": {
    "collapsed": true
   },
   "outputs": [],
   "source": [
    "%matplotlib inline\n",
    "# the import statement for matplotlib\n",
    "import matplotlib.pyplot as plt\n",
    "\n",
    "# cost function history plotter\n",
    "def plot_cost_histories(cost_histories,labels):\n",
    "    # create figure\n",
    "    plt.figure()\n",
    "    \n",
    "    # loop over cost histories and plot each one\n",
    "    for j in range(len(cost_histories)):\n",
    "        history = cost_histories[j]\n",
    "        label = labels[j]\n",
    "        plt.plot(history,label = label)\n",
    "    plt.legend(loc='center left', bbox_to_anchor=(1, 0.5))\n",
    "    plt.show()"
   ]
  },
  {
   "cell_type": "markdown",
   "metadata": {},
   "source": [
    "Now we plot the cost histories of $\\alpha = 10^{-1}$ and $\\alpha = 10^{-2}$ as follow:"
   ]
  },
  {
   "cell_type": "code",
   "execution_count": 107,
   "metadata": {},
   "outputs": [
    {
     "data": {
      "image/png": "[encoded data removed]",
      "text/plain": [
       "<Figure size 432x288 with 1 Axes>"
      ]
     },
     "metadata": {},
     "output_type": "display_data"
    }
   ],
   "source": [
    "plot_cost_histories([cost_history_1,cost_history_2],labels = [r'$\\alpha = 10^{-1}$',r'$\\alpha = 10^{-2}$'])"
   ]
  },
  {
   "cell_type": "markdown",
   "metadata": {},
   "source": [
    "We can see that when $\\alpha = 10^{-1}$, the cost function converge much faster."
   ]
  },
  {
   "cell_type": "markdown",
   "metadata": {},
   "source": [
    "Then we define the trained model quality evaluation function as below, which is based on the misclassification number of each step:"
   ]
  },
  {
   "cell_type": "code",
   "execution_count": 108,
   "metadata": {
    "collapsed": true
   },
   "outputs": [],
   "source": [
    "def trained_model_quality(weight_history,max_its):    \n",
    "    misclassifications_history = [] # misclassification history container\n",
    "    \n",
    "    # run the each step misclassification calculation loop\n",
    "    for k in range(max_its): # for each step\n",
    "        num_misclassification = 0\n",
    "        yhat = np.sign(model(x, weight_history[k]))\n",
    "        for j in range(len(y.T)): # for each y\n",
    "            if yhat[0][j] != y[0][j]: # determine whether yhat = y, if not, it means misclassification\n",
    "                num_misclassification = num_misclassification + 1\n",
    "            else:\n",
    "                continue\n",
    "        misclassifications_history.append(num_misclassification)\n",
    "    return misclassifications_history\n"
   ]
  },
  {
   "cell_type": "markdown",
   "metadata": {},
   "source": [
    "Now we can get the misclassification histories of each step when $\\alpha = 10^{-1}$ and $\\alpha = 10^{-2}$ as below:"
   ]
  },
  {
   "cell_type": "code",
   "execution_count": 109,
   "metadata": {
    "collapsed": true
   },
   "outputs": [],
   "source": [
    "# Calculate the misclassification history of each step when alpha = 10^(-1)\n",
    "misclassification_history_1 = trained_model_quality(weight_history_1,max_its = 50)\n",
    "\n",
    "# Calculate the misclassification history of each step when alpha = 10^(-2)\n",
    "misclassification_history_2 = trained_model_quality(weight_history_2,max_its = 50)"
   ]
  },
  {
   "cell_type": "markdown",
   "metadata": {},
   "source": [
    "Now we can print out the misclassification histories of each step when $\\alpha = 10^{-1}$ and $\\alpha = 10^{-2}$ as below:"
   ]
  },
  {
   "cell_type": "code",
   "execution_count": 110,
   "metadata": {},
   "outputs": [
    {
     "data": {
      "text/plain": [
       "[58,\n",
       " 58,\n",
       " 58,\n",
       " 57,\n",
       " 55,\n",
       " 55,\n",
       " 54,\n",
       " 54,\n",
       " 54,\n",
       " 54,\n",
       " 52,\n",
       " 52,\n",
       " 51,\n",
       " 52,\n",
       " 52,\n",
       " 52,\n",
       " 51,\n",
       " 51,\n",
       " 49,\n",
       " 48,\n",
       " 47,\n",
       " 46,\n",
       " 46,\n",
       " 45,\n",
       " 44,\n",
       " 44,\n",
       " 43,\n",
       " 43,\n",
       " 43,\n",
       " 43,\n",
       " 43,\n",
       " 42,\n",
       " 40,\n",
       " 39,\n",
       " 38,\n",
       " 37,\n",
       " 36,\n",
       " 36,\n",
       " 35,\n",
       " 34,\n",
       " 33,\n",
       " 33,\n",
       " 32,\n",
       " 32,\n",
       " 30,\n",
       " 29,\n",
       " 29,\n",
       " 24,\n",
       " 19,\n",
       " 15]"
      ]
     },
     "execution_count": 110,
     "metadata": {},
     "output_type": "execute_result"
    }
   ],
   "source": [
    "# print the misclassification history of each step when alpha = 10^(-1)\n",
    "misclassification_history_1"
   ]
  },
  {
   "cell_type": "code",
   "execution_count": 111,
   "metadata": {},
   "outputs": [
    {
     "data": {
      "text/plain": [
       "[58,\n",
       " 58,\n",
       " 58,\n",
       " 58,\n",
       " 58,\n",
       " 58,\n",
       " 58,\n",
       " 58,\n",
       " 58,\n",
       " 58,\n",
       " 58,\n",
       " 58,\n",
       " 58,\n",
       " 58,\n",
       " 58,\n",
       " 58,\n",
       " 58,\n",
       " 58,\n",
       " 58,\n",
       " 58,\n",
       " 58,\n",
       " 57,\n",
       " 57,\n",
       " 57,\n",
       " 57,\n",
       " 57,\n",
       " 57,\n",
       " 57,\n",
       " 57,\n",
       " 57,\n",
       " 57,\n",
       " 57,\n",
       " 57,\n",
       " 57,\n",
       " 56,\n",
       " 56,\n",
       " 56,\n",
       " 56,\n",
       " 56,\n",
       " 55,\n",
       " 55,\n",
       " 55,\n",
       " 55,\n",
       " 55,\n",
       " 55,\n",
       " 55,\n",
       " 55,\n",
       " 55,\n",
       " 55,\n",
       " 55]"
      ]
     },
     "execution_count": 111,
     "metadata": {},
     "output_type": "execute_result"
    }
   ],
   "source": [
    "# print the misclassification history of each step of alpha = 10^(-2)\n",
    "misclassification_history_2"
   ]
  },
  {
   "cell_type": "markdown",
   "metadata": {},
   "source": [
    "Now we define the misclassification histories visualization function as below:"
   ]
  },
  {
   "cell_type": "code",
   "execution_count": 112,
   "metadata": {
    "collapsed": true
   },
   "outputs": [],
   "source": [
    "%matplotlib inline\n",
    "# the import statement for matplotlib\n",
    "import matplotlib.pyplot as plt\n",
    "\n",
    "# cost function history plotter\n",
    "def plot_misclassification_histories(misclassification_history,labels):\n",
    "    # create figure\n",
    "    plt.figure()\n",
    "    \n",
    "    # loop over cost histories and plot each one\n",
    "    for j in range(len(misclassification_history)):\n",
    "        history = misclassification_history[j]\n",
    "        label = labels[j]\n",
    "        plt.plot(history,label = label)\n",
    "    plt.legend(loc='center left', bbox_to_anchor=(1, 0.5))\n",
    "    plt.show()"
   ]
  },
  {
   "cell_type": "markdown",
   "metadata": {},
   "source": [
    "Now we plot the misclassification histories of $\\alpha = 10^{-1}$ and $\\alpha = 10^{-2}$ as follow:"
   ]
  },
  {
   "cell_type": "code",
   "execution_count": 113,
   "metadata": {},
   "outputs": [
    {
     "data": {
      "image/png": "[encoded data removed]",
      "text/plain": [
       "<Figure size 432x288 with 1 Axes>"
      ]
     },
     "metadata": {},
     "output_type": "display_data"
    }
   ],
   "source": [
    "plot_misclassification_histories([misclassification_history_1,misclassification_history_2],labels = [r'$\\alpha = 10^{-1}$',r'$\\alpha = 10^{-2}$'])"
   ]
  },
  {
   "cell_type": "markdown",
   "metadata": {},
   "source": [
    "Based on the cost function histories and misclassification histories, when $\\alpha = 10^{-1}$,it achieves perfect classification first."
   ]
  },
  {
   "cell_type": "markdown",
   "metadata": {},
   "source": [
    "## Exercise 14"
   ]
  },
  {
   "cell_type": "code",
   "execution_count": 58,
   "metadata": {
    "collapsed": true
   },
   "outputs": [],
   "source": [
    "# import statements\n",
    "datapath = 'datasets/'\n",
    "from autograd import numpy as np\n",
    "# load in dataset\n",
    "csvname = datapath + 'breast_cancer_data.csv'\n",
    "data1 = np.loadtxt(csvname,delimiter = ',')\n",
    "\n",
    "# get input and output of dataset\n",
    "x = data1[:-1,:]\n",
    "y = data1[-1:,:] "
   ]
  },
  {
   "cell_type": "markdown",
   "metadata": {},
   "source": [
    "First we define the linear combination of input point and the *Softmax cost function* and *Preceptron cost function* as below:"
   ]
  },
  {
   "cell_type": "code",
   "execution_count": 59,
   "metadata": {
    "collapsed": true
   },
   "outputs": [],
   "source": [
    "# compute linear combination of input point\n",
    "def model(x,w):\n",
    "    a = w[0] + np.dot(x.T,w[1:]) \n",
    "    return a.T\n",
    "\n",
    "# the convex softmax cost function\n",
    "def softmax(w):\n",
    "    cost = np.sum(np.log(1 + np.exp(-y*model(x,w))))\n",
    "    return cost/float(np.size(y))\n",
    "\n",
    "# the perceptron cost function\n",
    "def perceptron_cost(w):\n",
    "    cost = np.sum(np.maximum(0,-y*model(x,w)))\n",
    "    return cost/float(np.size(y))\n",
    "\n",
    "g = lambda w: softmax(w)\n",
    "g_1 = lambda w: perceptron_cost(w)"
   ]
  },
  {
   "cell_type": "markdown",
   "metadata": {},
   "source": [
    "Then we define the gradient descent function for minimizing cost function as below:"
   ]
  },
  {
   "cell_type": "code",
   "execution_count": 60,
   "metadata": {
    "collapsed": true
   },
   "outputs": [],
   "source": [
    "from autograd import grad \n",
    "import autograd.numpy as np   \n",
    "from autograd import value_and_grad \n",
    "import matplotlib.pyplot as plt\n",
    "\n",
    "# gradient descent function \n",
    "def gradient_descent(g,alpha,max_its,w):\n",
    "    # compute gradient module using autograd\n",
    "    gradient = grad(g)\n",
    "\n",
    "    # run the gradient descent loop\n",
    "    weight_history = [w] # weight history container\n",
    "    cost_history = [g(w)] # cost function history container\n",
    "    for k in range(max_its):\n",
    "        # evaluate the gradient\n",
    "        grad_eval = gradient(w)\n",
    "\n",
    "        # take gradient descent step\n",
    "        w = w - alpha*grad_eval\n",
    "        \n",
    "        # record weight and cost\n",
    "        weight_history.append(w)\n",
    "        cost_history.append(g(w))\n",
    "    return weight_history,cost_history"
   ]
  },
  {
   "cell_type": "markdown",
   "metadata": {},
   "source": [
    "Now we can use the gradient descent function to minimize the *Softmax cost function* and *Perceptron cost function* and get the weight history and cost history of each step. We assume that they share the same $\\alpha = 0.01$, max iteration is 2000 and random intialization."
   ]
  },
  {
   "cell_type": "code",
   "execution_count": 61,
   "metadata": {
    "collapsed": true
   },
   "outputs": [],
   "source": [
    "#  Minimizing the softmax cost function\n",
    "alpha_choice = 100**(-1); max_its = 2000;w = np.random.randn(9,1);\n",
    "weight_history_1,cost_history_1 = gradient_descent(g,alpha_choice,max_its,w)\n",
    "\n",
    "# Minimizing the perceptron cost function\n",
    "alpha_choice = 100**(-1); max_its = 2000;w ;# use the same intialization as softmax cost function\n",
    "weight_history_2,cost_history_2 = gradient_descent(g_1,alpha_choice,max_its,w)"
   ]
  },
  {
   "cell_type": "markdown",
   "metadata": {},
   "source": [
    "Now we print the random intialization to know exactly what have been used in this experiment:"
   ]
  },
  {
   "cell_type": "code",
   "execution_count": 62,
   "metadata": {},
   "outputs": [
    {
     "data": {
      "text/plain": [
       "array([[ 0.07885186],\n",
       "       [-0.65684905],\n",
       "       [-1.37711905],\n",
       "       [-0.18037947],\n",
       "       [ 0.4820285 ],\n",
       "       [-1.16679047],\n",
       "       [-0.34759846],\n",
       "       [ 0.92350483],\n",
       "       [-1.43208138]])"
      ]
     },
     "execution_count": 62,
     "metadata": {},
     "output_type": "execute_result"
    }
   ],
   "source": [
    "w"
   ]
  },
  {
   "cell_type": "markdown",
   "metadata": {},
   "source": [
    "Then we define the cost histories plot function in order to visualize the cost history as below:"
   ]
  },
  {
   "cell_type": "code",
   "execution_count": 63,
   "metadata": {
    "collapsed": true
   },
   "outputs": [],
   "source": [
    "%matplotlib inline\n",
    "# the import statement for matplotlib\n",
    "import matplotlib.pyplot as plt\n",
    "\n",
    "# cost function history plotter\n",
    "def plot_cost_histories(cost_histories,labels):\n",
    "    # create figure\n",
    "    plt.figure()\n",
    "    \n",
    "    # loop over cost histories and plot each one\n",
    "    for j in range(len(cost_histories)):\n",
    "        history = cost_histories[j]\n",
    "        label = labels[j]\n",
    "        plt.plot(history,label = label)\n",
    "    plt.legend(loc='center left', bbox_to_anchor=(1, 0.5))\n",
    "    plt.show()"
   ]
  },
  {
   "cell_type": "markdown",
   "metadata": {},
   "source": [
    "Now we plot the cost histories of *Softmax cost function* and *Perceptron cost function* as below:"
   ]
  },
  {
   "cell_type": "code",
   "execution_count": 64,
   "metadata": {},
   "outputs": [
    {
     "data": {
      "image/png": "[encoded data removed]",
      "text/plain": [
       "<Figure size 432x288 with 1 Axes>"
      ]
     },
     "metadata": {},
     "output_type": "display_data"
    }
   ],
   "source": [
    "plot_cost_histories([cost_history_1,cost_history_2],labels = [r'softmax',r'perceptron cost'])"
   ]
  },
  {
   "cell_type": "markdown",
   "metadata": {},
   "source": [
    "Then we define the trained model quality evaluation function as below, which is based on the misclassification number of each step:"
   ]
  },
  {
   "cell_type": "code",
   "execution_count": 65,
   "metadata": {
    "collapsed": true
   },
   "outputs": [],
   "source": [
    "def trained_model_quality(weight_history,max_its):    \n",
    "    misclassifications_history = [] # misclassification history container\n",
    "    \n",
    "    # run the each step misclassification calculation loop\n",
    "    for k in range(max_its): # for each step\n",
    "        num_misclassification = 0\n",
    "        yhat = np.sign(model(x, weight_history[k]))\n",
    "        for j in range(len(y.T)): # for each y\n",
    "            if yhat[0][j] != y[0][j]: # determine whether yhat = y, if not, it means misclassification\n",
    "                num_misclassification = num_misclassification + 1\n",
    "            else:\n",
    "                continue\n",
    "        misclassifications_history.append(num_misclassification)\n",
    "    return misclassifications_history"
   ]
  },
  {
   "cell_type": "markdown",
   "metadata": {},
   "source": [
    "Then we can calculate the misclassifcation history of each cost function as below:"
   ]
  },
  {
   "cell_type": "code",
   "execution_count": 66,
   "metadata": {
    "collapsed": true
   },
   "outputs": [],
   "source": [
    "# Calculate the misclassification history of softmax cost function\n",
    "misclassification_history_1 = trained_model_quality(weight_history_1,max_its = 2000)\n",
    "\n",
    "# Calculate the misclassification history of perceptron cost function\n",
    "misclassification_history_2 = trained_model_quality(weight_history_2,max_its = 2000)"
   ]
  },
  {
   "cell_type": "markdown",
   "metadata": {},
   "source": [
    "Now, we print the minimal number of misclassification number of each cost functions as below:"
   ]
  },
  {
   "cell_type": "code",
   "execution_count": 72,
   "metadata": {},
   "outputs": [
    {
     "name": "stdout",
     "output_type": "stream",
     "text": [
      "The minimal misclassification number of softmax cost function on last step is : 45\n"
     ]
    }
   ],
   "source": [
    "# The last step of softmax cost misclassification number\n",
    "print('The minimal misclassification number of softmax cost function on last step is :',misclassification_history_1[-1])"
   ]
  },
  {
   "cell_type": "code",
   "execution_count": 74,
   "metadata": {},
   "outputs": [
    {
     "name": "stdout",
     "output_type": "stream",
     "text": [
      "The minimal misclassification number of perceptron cost function on last step is : 28\n"
     ]
    }
   ],
   "source": [
    "# The last step of precetron cost misclassification number\n",
    "print('The minimal misclassification number of perceptron cost function on last step is :',misclassification_history_2[-1])"
   ]
  },
  {
   "cell_type": "markdown",
   "metadata": {},
   "source": [
    "Therefore, we can see that the minimal misclassification number of *Perceptron cost function* is less than the one of softmax cost function. Now we define the misclassification histories visualization function as below:"
   ]
  },
  {
   "cell_type": "code",
   "execution_count": 69,
   "metadata": {
    "collapsed": true
   },
   "outputs": [],
   "source": [
    "%matplotlib inline\n",
    "# the import statement for matplotlib\n",
    "import matplotlib.pyplot as plt\n",
    "\n",
    "# cost function history plotter\n",
    "def plot_misclassification_histories(misclassification_history,labels):\n",
    "    # create figure\n",
    "    plt.figure()\n",
    "    \n",
    "    # loop over cost histories and plot each one\n",
    "    for j in range(len(misclassification_history)):\n",
    "        history = misclassification_history[j]\n",
    "        label = labels[j]\n",
    "        plt.plot(history,label = label)\n",
    "    plt.legend(loc='center left', bbox_to_anchor=(1, 0.5))\n",
    "    plt.show()"
   ]
  },
  {
   "cell_type": "markdown",
   "metadata": {},
   "source": [
    "Now we plot the misclassification histories of *Softmax cost function* and *Perceptron cost function* as below:"
   ]
  },
  {
   "cell_type": "code",
   "execution_count": 70,
   "metadata": {},
   "outputs": [
    {
     "data": {
      "image/png": "[encoded data removed]",
      "text/plain": [
       "<Figure size 432x288 with 1 Axes>"
      ]
     },
     "metadata": {},
     "output_type": "display_data"
    }
   ],
   "source": [
    "plot_misclassification_histories([misclassification_history_1,misclassification_history_2],labels = [r'softmax',r'perceptron cost'])"
   ]
  },
  {
   "cell_type": "markdown",
   "metadata": {},
   "source": [
    "Therefore, based on the cost and misclassification histories of softmax and perceptron cost function, we can see that *Perceptron cost function* achieves less number of misclassification than *Softmax cost function*, which means that the efficacy of *Perceptron cost function* is better."
   ]
  },
  {
   "cell_type": "code",
   "execution_count": null,
   "metadata": {
    "collapsed": true
   },
   "outputs": [],
   "source": []
  }
 ],
 "metadata": {
  "kernelspec": {
   "display_name": "Python 3",
   "language": "python",
   "name": "python3"
  },
  "language_info": {
   "codemirror_mode": {
    "name": "ipython",
    "version": 3
   },
   "file_extension": ".py",
   "mimetype": "text/x-python",
   "name": "python",
   "nbconvert_exporter": "python",
   "pygments_lexer": "ipython3",
   "version": "3.5.5"
  }
 },
 "nbformat": 4,
 "nbformat_minor": 2
}
