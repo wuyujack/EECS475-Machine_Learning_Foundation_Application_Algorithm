{
 "cells": [
  {
   "cell_type": "markdown",
   "metadata": {},
   "source": [
    "# EECS 495 Homwwork 2"
   ]
  },
  {
   "cell_type": "markdown",
   "metadata": {},
   "source": [
    "## Student: Mingfu Liang"
   ]
  },
  {
   "cell_type": "markdown",
   "metadata": {},
   "source": [
    "## Email: mingfuliang2020@u.northwestern.edu"
   ]
  },
  {
   "cell_type": "markdown",
   "metadata": {},
   "source": [
    "Please perform the following exercises, each of which is worth $10$ points.  The instructions for most can be found at the end of the Chapter notes, however several include additional information / starter code which is provided below."
   ]
  },
  {
   "cell_type": "markdown",
   "metadata": {},
   "source": [
    " - **Chapter 7:** Exercises: 2, 3, and 5\n",
    " \n",
    " - **Chapter 8:** Exercises: 1, 2, and 4"
   ]
  },
  {
   "cell_type": "markdown",
   "metadata": {},
   "source": [
    "Note: in completing Exercises $3$ and $5$ of Chapter 7 and Exercise 5 of Chapter 8 you may want to *flatten* your cost function prior to minimizing it since both the multi-class model and the Linear Autoencoder take in a **matrix** of weights.  You can find instructinos about how to do this via `autograd` in the attached Jupyter notebook called `flattening_functions_using_autograd.ipynb`."
   ]
  },
  {
   "cell_type": "code",
   "execution_count": 1,
   "metadata": {},
   "outputs": [],
   "source": [
    "%matplotlib inline\n",
    "# import autograd / numpy necessities\n",
    "from autograd import numpy as np\n",
    "\n",
    "# set path to datasets\n",
    "datapath = 'datasets/'"
   ]
  },
  {
   "cell_type": "markdown",
   "metadata": {},
   "source": [
    "# Chapter 7 Exercise 2"
   ]
  },
  {
   "cell_type": "code",
   "execution_count": 150,
   "metadata": {},
   "outputs": [],
   "source": [
    "%matplotlib inline\n",
    "# import autograd / numpy necessities\n",
    "from autograd import numpy as np\n",
    "\n",
    "# set path to datasets\n",
    "datapath = 'datasets/'\n",
    "# location of dataset\n",
    "csvname = datapath + '4class_data.csv'\n",
    "data = np.loadtxt(csvname,delimiter = ',')\n",
    "\n",
    "# get input/output pairs\n",
    "x = data[:-1,:]\n",
    "y = data[-1:,:] "
   ]
  },
  {
   "cell_type": "markdown",
   "metadata": {},
   "source": [
    "First let we visualize the y and see how many class of classification:"
   ]
  },
  {
   "cell_type": "code",
   "execution_count": 151,
   "metadata": {},
   "outputs": [
    {
     "name": "stdout",
     "output_type": "stream",
     "text": [
      "[[0. 0. 0. 0. 0. 0. 0. 0. 0. 0. 1. 1. 1. 1. 1. 1. 1. 1. 1. 1. 2. 2. 2. 2.\n",
      "  2. 2. 2. 2. 2. 2. 3. 3. 3. 3. 3. 3. 3. 3. 3. 3.]]\n"
     ]
    }
   ],
   "source": [
    "print (y)"
   ]
  },
  {
   "cell_type": "markdown",
   "metadata": {},
   "source": [
    "Then we returen the y's and x's shape:"
   ]
  },
  {
   "cell_type": "code",
   "execution_count": 152,
   "metadata": {},
   "outputs": [
    {
     "data": {
      "text/plain": [
       "(1, 40)"
      ]
     },
     "execution_count": 152,
     "metadata": {},
     "output_type": "execute_result"
    }
   ],
   "source": [
    "y.shape"
   ]
  },
  {
   "cell_type": "code",
   "execution_count": 153,
   "metadata": {},
   "outputs": [
    {
     "data": {
      "text/plain": [
       "(2, 40)"
      ]
     },
     "execution_count": 153,
     "metadata": {},
     "output_type": "execute_result"
    }
   ],
   "source": [
    "x.shape"
   ]
  },
  {
   "cell_type": "markdown",
   "metadata": {},
   "source": [
    "Now we defined the softmax cost function and fusion rule for One-versus-All classiﬁcation algorithm:"
   ]
  },
  {
   "cell_type": "code",
   "execution_count": 154,
   "metadata": {},
   "outputs": [],
   "source": [
    "# compute C linear combinations of input point, one per classifier\n",
    "def model(x,w):\n",
    "    a = w[0] + np.dot(x.T,w[1:])\n",
    "    return a.T\n",
    "\n",
    "# softmax\n",
    "def softmax(w,y):\n",
    "    cost = np.sum(np.log(1 + np.exp(-y*model(x,w))))\n",
    "    return cost/float(np.size(y))\n",
    "\n",
    "# the fusion rule\n",
    "def fusion_rule(x,w):\n",
    "    return np.argmax(model(x,w))"
   ]
  },
  {
   "cell_type": "markdown",
   "metadata": {},
   "source": [
    "Then we define the gradient descent function for cost function optimization:"
   ]
  },
  {
   "cell_type": "code",
   "execution_count": 155,
   "metadata": {},
   "outputs": [],
   "source": [
    "from autograd import grad \n",
    "import autograd.numpy as np   \n",
    "from autograd import value_and_grad \n",
    "import matplotlib.pyplot as plt\n",
    "\n",
    "# gradient descent function \n",
    "def gradient_descent(g,alpha,max_its,w):\n",
    "    # compute gradient module using autograd\n",
    "    gradient = grad(g)\n",
    "\n",
    "    # run the gradient descent loop\n",
    "    weight_history = [w] # weight history container\n",
    "    cost_history = [g(w)] # cost function history container\n",
    "    for k in range(max_its):\n",
    "        # evaluate the gradient\n",
    "        grad_eval = gradient(w)\n",
    "\n",
    "        # take gradient descent step\n",
    "        w = w - alpha*grad_eval\n",
    "        \n",
    "        # record weight and cost\n",
    "        weight_history.append(w)\n",
    "        cost_history.append(g(w))\n",
    "    return weight_history,cost_history\n"
   ]
  },
  {
   "cell_type": "markdown",
   "metadata": {},
   "source": [
    "Now we define the One-versus-All multiclass classification as follow:"
   ]
  },
  {
   "cell_type": "code",
   "execution_count": 161,
   "metadata": {},
   "outputs": [],
   "source": [
    "from autograd import grad \n",
    "import autograd.numpy as np   \n",
    "from autograd import value_and_grad \n",
    "\n",
    "def OvA_multi_class(x,y):\n",
    "    Optimal_W= []\n",
    "    for j in range(len(C)):\n",
    "        y_temp_lab=np.where(y==j,1,-1)\n",
    "       \n",
    "        alpha_choice = 0.1\n",
    "        max_its = 1500\n",
    "        w = 0.1*np.random.randn(3,1)\n",
    "        g = lambda  w : softmax(w,y_temp_lab)\n",
    "        \n",
    "        weight_history,cost_history= gradient_descent(g,alpha_choice,max_its,w)\n",
    "     \n",
    "        w = weight_history[-1]\n",
    "  \n",
    "        Optimal_W.append(w/np.linalg.norm(w))\n",
    "        print(w)\n",
    "    return Optimal_W"
   ]
  },
  {
   "cell_type": "markdown",
   "metadata": {},
   "source": [
    "Then we calculate the optimal weight as w1 by calling the One-versus-All multiclass classification:"
   ]
  },
  {
   "cell_type": "code",
   "execution_count": 162,
   "metadata": {},
   "outputs": [
    {
     "name": "stdout",
     "output_type": "stream",
     "text": [
      "[[-1.03957372]\n",
      " [-4.61505204]\n",
      " [ 3.65530536]]\n",
      "[[-3.45428239]\n",
      " [ 2.19911038]\n",
      " [ 2.64094773]]\n",
      "[[ 1.3853974 ]\n",
      " [-2.54565468]\n",
      " [-3.08828946]]\n",
      "[[-1.31130456]\n",
      " [ 4.01557589]\n",
      " [-4.21550654]]\n"
     ]
    }
   ],
   "source": [
    "w1 = OvA_multi_class(x,y)"
   ]
  },
  {
   "cell_type": "markdown",
   "metadata": {},
   "source": [
    "Based on the optimal weight we obtain the prediction of y as follow:"
   ]
  },
  {
   "cell_type": "code",
   "execution_count": 163,
   "metadata": {},
   "outputs": [],
   "source": [
    "# make the predictions\n",
    "pred = np.argmax(model(x,np.squeeze(w1).T), axis=0)   #2,40 3,4"
   ]
  },
  {
   "cell_type": "markdown",
   "metadata": {},
   "source": [
    "Now we print out the predcition of y and we calculate the misclassification of our algorithm:"
   ]
  },
  {
   "cell_type": "code",
   "execution_count": 166,
   "metadata": {},
   "outputs": [
    {
     "data": {
      "text/plain": [
       "array([0, 0, 0, 0, 0, 0, 0, 0, 0, 0, 0, 1, 0, 1, 1, 1, 1, 1, 3, 1, 0, 1,\n",
       "       2, 2, 2, 2, 2, 3, 3, 3, 3, 1, 3, 3, 3, 3, 3, 3, 3, 3])"
      ]
     },
     "execution_count": 166,
     "metadata": {},
     "output_type": "execute_result"
    }
   ],
   "source": [
    "pred"
   ]
  },
  {
   "cell_type": "markdown",
   "metadata": {},
   "source": [
    "Now we find out the misclassification when our prediction is different from corresponding groundtruth data y:"
   ]
  },
  {
   "cell_type": "code",
   "execution_count": 167,
   "metadata": {},
   "outputs": [],
   "source": [
    "misclassification=y[np.where(pred != y)]"
   ]
  },
  {
   "cell_type": "markdown",
   "metadata": {},
   "source": [
    "Now we want to know how many missclassification we get:"
   ]
  },
  {
   "cell_type": "code",
   "execution_count": 168,
   "metadata": {},
   "outputs": [
    {
     "data": {
      "text/plain": [
       "(9,)"
      ]
     },
     "execution_count": 168,
     "metadata": {},
     "output_type": "execute_result"
    }
   ],
   "source": [
    "misclassification.shape"
   ]
  },
  {
   "cell_type": "markdown",
   "metadata": {},
   "source": [
    "Therefore, we obtain 9 misclassifications and less than 10 misclassiﬁcations."
   ]
  },
  {
   "cell_type": "markdown",
   "metadata": {},
   "source": [
    "# Chapter 7 Exercise 3 "
   ]
  },
  {
   "cell_type": "code",
   "execution_count": 361,
   "metadata": {},
   "outputs": [],
   "source": [
    "%matplotlib inline\n",
    "# import autograd / numpy necessities\n",
    "from autograd import numpy as np\n",
    "\n",
    "# set path to datasets\n",
    "datapath = 'datasets/'\n",
    "# location of dataset\n",
    "csvname = datapath + '3class_data.csv'\n",
    "data = np.loadtxt(csvname,delimiter = ',')\n",
    "\n",
    "# get input/output pairs\n",
    "x = data[:-1,:]\n",
    "y = data[-1:,:] "
   ]
  },
  {
   "cell_type": "markdown",
   "metadata": {},
   "source": [
    "First let we visualize the y and see how many class of classification:"
   ]
  },
  {
   "cell_type": "code",
   "execution_count": 362,
   "metadata": {},
   "outputs": [
    {
     "name": "stdout",
     "output_type": "stream",
     "text": [
      "[[0. 0. 0. 0. 0. 0. 0. 0. 0. 0. 1. 1. 1. 1. 1. 1. 1. 1. 1. 1. 2. 2. 2. 2.\n",
      "  2. 2. 2. 2. 2. 2.]]\n"
     ]
    }
   ],
   "source": [
    "print (y)"
   ]
  },
  {
   "cell_type": "markdown",
   "metadata": {},
   "source": [
    "Now we define model function in order to compute C linear combinations of input point and the multiclass perceptron cost function as follow:"
   ]
  },
  {
   "cell_type": "code",
   "execution_count": 363,
   "metadata": {},
   "outputs": [],
   "source": [
    "# compute C linear combinations of input point, one per classifier\n",
    "def model(x,w):\n",
    "    a = w[0] + np.dot(x.T,w[1:])\n",
    "    return a.T\n",
    "\n",
    "# multiclass perceptron\n",
    "lam = 10**-5  # our regularization paramter \n",
    "def multiclass_perceptron(w):        \n",
    "    # pre-compute predictions on all points\n",
    "    all_evals = model(x,w)\n",
    "    \n",
    "    # compute maximum across data points\n",
    "    a = np.max(all_evals,axis = 0)    \n",
    "\n",
    "    # compute cost in compact form using numpy broadcasting\n",
    "    b = all_evals[y.astype(int).flatten(),np.arange(np.size(y))]\n",
    "    cost = np.sum(a - b)\n",
    "    \n",
    "    # add regularizer\n",
    "    cost = cost + lam*np.linalg.norm(w[1:,:],'fro')**2\n",
    "    \n",
    "    # return average\n",
    "    return cost/float(np.size(y))"
   ]
  },
  {
   "cell_type": "markdown",
   "metadata": {},
   "source": [
    "Then we define the gradient descent function:"
   ]
  },
  {
   "cell_type": "code",
   "execution_count": 364,
   "metadata": {},
   "outputs": [],
   "source": [
    "from autograd import grad \n",
    "import autograd.numpy as np   \n",
    "from autograd import value_and_grad \n",
    "import matplotlib.pyplot as plt\n",
    "\n",
    "# gradient descent function \n",
    "def gradient_descent(g,alpha,max_its,w):\n",
    "    # compute gradient module using autograd\n",
    "    gradient = grad(g)\n",
    "\n",
    "    # run the gradient descent loop\n",
    "    weight_history = [w] # weight history container\n",
    "    cost_history = [g(w)] # cost function history container\n",
    "    for k in range(max_its):\n",
    "        # evaluate the gradient\n",
    "        grad_eval = gradient(w)\n",
    "\n",
    "        # take gradient descent step\n",
    "        w = w - alpha*grad_eval\n",
    "        \n",
    "        # record weight and cost\n",
    "        weight_history.append(w)\n",
    "        cost_history.append(g(w))\n",
    "    return weight_history,cost_history"
   ]
  },
  {
   "cell_type": "markdown",
   "metadata": {},
   "source": [
    "Now we define the parameters associated with the multiclass perceptron cost optimization as follow:"
   ]
  },
  {
   "cell_type": "code",
   "execution_count": 373,
   "metadata": {},
   "outputs": [
    {
     "data": {
      "text/plain": [
       "'w = array([[ 0.00048942, -0.00402983,  0.0076655 ],\\n       [ 0.00417396, -0.01156446,  0.00104481],\\n       [-0.00708779, -0.00905898, -0.00523861]])'"
      ]
     },
     "execution_count": 373,
     "metadata": {},
     "output_type": "execute_result"
    }
   ],
   "source": [
    "g = multiclass_perceptron;w = 0.01*np.random.randn(3,3); \n",
    "max_its = 1000; alpha_choice = 10**(-1);\n",
    "weight_history,cost_history = gradient_descent(g,alpha_choice,max_its,w)\n",
    "\n",
    "\n",
    "\n",
    "'''If you want to reproduce the result, use w = array([[ 0.00048942, -0.00402983,  0.0076655 ],\n",
    "                                                       [ 0.00417396, -0.01156446,  0.00104481],\n",
    "                                                       [-0.00708779, -0.00905898, -0.00523861]])'''"
   ]
  },
  {
   "cell_type": "markdown",
   "metadata": {},
   "source": [
    "Since w is randomized, therefore we want to know in each experiment what w is using and we print it out as following:"
   ]
  },
  {
   "cell_type": "code",
   "execution_count": 374,
   "metadata": {},
   "outputs": [
    {
     "data": {
      "text/plain": [
       "array([[ 0.00499531,  0.01123431, -0.01107368],\n",
       "       [ 0.00837053, -0.00967648, -0.00726228],\n",
       "       [ 0.01076717, -0.00784266, -0.00139685]])"
      ]
     },
     "execution_count": 374,
     "metadata": {},
     "output_type": "execute_result"
    }
   ],
   "source": [
    "w"
   ]
  },
  {
   "cell_type": "markdown",
   "metadata": {},
   "source": [
    "We also print the last line of weight history:"
   ]
  },
  {
   "cell_type": "code",
   "execution_count": 375,
   "metadata": {},
   "outputs": [
    {
     "data": {
      "text/plain": [
       "array([[ 0.00499531, -0.03543236,  0.03559299],\n",
       "       [-0.0609418 ,  0.05439846, -0.00202432],\n",
       "       [ 0.0576534 ,  0.01994046, -0.07606631]])"
      ]
     },
     "execution_count": 375,
     "metadata": {},
     "output_type": "execute_result"
    }
   ],
   "source": [
    "weight_history[-1]"
   ]
  },
  {
   "cell_type": "markdown",
   "metadata": {},
   "source": [
    "Then we define the cost funciton history plotter to visualize the cost function history:"
   ]
  },
  {
   "cell_type": "code",
   "execution_count": 376,
   "metadata": {},
   "outputs": [],
   "source": [
    "%matplotlib inline\n",
    "# the import statement for matplotlib\n",
    "import matplotlib.pyplot as plt\n",
    "\n",
    "# cost function history plotter\n",
    "def plot_cost_histories(cost_histories,labels):\n",
    "    # create figure\n",
    "    plt.figure()\n",
    "    \n",
    "    # loop over cost histories and plot each one\n",
    "    for j in range(len(cost_histories)):\n",
    "        history = cost_histories[j]\n",
    "        label = labels[j]\n",
    "        plt.plot(history,label = label)\n",
    "    plt.legend(loc='center left', bbox_to_anchor=(1, 0.5))\n",
    "    plt.show()"
   ]
  },
  {
   "cell_type": "markdown",
   "metadata": {},
   "source": [
    "Now we plot the cost history of multiclass perceptron as below:"
   ]
  },
  {
   "cell_type": "code",
   "execution_count": 377,
   "metadata": {},
   "outputs": [
    {
     "data": {
      "image/png": "[encoded data removed]",
      "text/plain": [
       "<Figure size 432x288 with 1 Axes>"
      ]
     },
     "metadata": {},
     "output_type": "display_data"
    }
   ],
   "source": [
    "plot_cost_histories([cost_history],labels = [r'multiclass_perceptron'])"
   ]
  },
  {
   "cell_type": "markdown",
   "metadata": {},
   "source": [
    "In order to confirm that we indeed obtain zero misclassification, we use the multiclass_illustrator module in superlearn library from Professor Jeremy Watt's [github](https://github.com/jermwatt/mlrefined/blob/gh-pages/mlrefined_libraries/superlearn_library/multiclass_illustrator.py):"
   ]
  },
  {
   "cell_type": "code",
   "execution_count": 378,
   "metadata": {},
   "outputs": [],
   "source": [
    "import sys\n",
    "sys.path.append('../')\n",
    "from superlearn_library import multiclass_illustrator"
   ]
  },
  {
   "cell_type": "code",
   "execution_count": 379,
   "metadata": {},
   "outputs": [],
   "source": [
    "E3 = superlearn.multiclass_illustrator.Visualizer(data)"
   ]
  },
  {
   "cell_type": "markdown",
   "metadata": {},
   "source": [
    "From the figures below we can confirm that our algorithm indeed get zero misclassification. For some concerns, here the jupyter notebook can not plot the black line on the boundary between red and blue classfication due to my python and matplotlib version. However, it should have a black line over there."
   ]
  },
  {
   "cell_type": "code",
   "execution_count": 380,
   "metadata": {},
   "outputs": [
    {
     "data": {
      "image/png": "[encoded data removed]",
      "text/plain": [
       "<Figure size 648x288 with 2 Axes>"
      ]
     },
     "metadata": {},
     "output_type": "display_data"
    }
   ],
   "source": [
    "E3.show_complete_coloring(weight_history, cost = multiclass_perceptron)"
   ]
  },
  {
   "cell_type": "markdown",
   "metadata": {},
   "source": [
    "# Chapter 7 Exercise 5"
   ]
  },
  {
   "cell_type": "code",
   "execution_count": 62,
   "metadata": {},
   "outputs": [],
   "source": [
    "%matplotlib inline\n",
    "# import autograd / numpy necessities\n",
    "from autograd import numpy as np\n",
    "\n",
    "# set path to datasets\n",
    "datapath = 'datasets/'\n",
    "# location of dataset\n",
    "csvname = datapath + '4class_data.csv'\n",
    "data = np.loadtxt(csvname,delimiter = ',')\n",
    "\n",
    "# get input/output pairs\n",
    "x = data[:-1,:]\n",
    "y = data[-1:,:] "
   ]
  },
  {
   "cell_type": "markdown",
   "metadata": {},
   "source": [
    "First let we visualize the y and see how many class of classification:"
   ]
  },
  {
   "cell_type": "code",
   "execution_count": 63,
   "metadata": {},
   "outputs": [
    {
     "name": "stdout",
     "output_type": "stream",
     "text": [
      "[[0. 0. 0. 0. 0. 0. 0. 0. 0. 0. 1. 1. 1. 1. 1. 1. 1. 1. 1. 1. 2. 2. 2. 2.\n",
      "  2. 2. 2. 2. 2. 2. 3. 3. 3. 3. 3. 3. 3. 3. 3. 3.]]\n"
     ]
    }
   ],
   "source": [
    "print (y)"
   ]
  },
  {
   "cell_type": "markdown",
   "metadata": {},
   "source": [
    "Then we returen the y's and x's shape:"
   ]
  },
  {
   "cell_type": "code",
   "execution_count": 64,
   "metadata": {},
   "outputs": [
    {
     "data": {
      "text/plain": [
       "(1, 40)"
      ]
     },
     "execution_count": 64,
     "metadata": {},
     "output_type": "execute_result"
    }
   ],
   "source": [
    "y.shape"
   ]
  },
  {
   "cell_type": "code",
   "execution_count": 65,
   "metadata": {},
   "outputs": [
    {
     "data": {
      "text/plain": [
       "(2, 40)"
      ]
     },
     "execution_count": 65,
     "metadata": {},
     "output_type": "execute_result"
    }
   ],
   "source": [
    "x.shape"
   ]
  },
  {
   "cell_type": "markdown",
   "metadata": {},
   "source": [
    "Now we define model function in order to compute C linear combinations of input point and the multiclass softmax cost function as follow:"
   ]
  },
  {
   "cell_type": "code",
   "execution_count": 66,
   "metadata": {},
   "outputs": [],
   "source": [
    "# compute C linear combinations of input point, one per classifier\n",
    "def model(x,w):\n",
    "    a = w[0] + np.dot(x.T,w[1:])\n",
    "    return a.T\n",
    "\n",
    "# multiclass softmaax \n",
    "lam = 10**(-5)  # our regularization paramter \n",
    "def multiclass_softmax(w):        \n",
    "    # pre-compute predictions on all points\n",
    "    all_evals = model(x,w)\n",
    "    \n",
    "    # compute softmax across data points\n",
    "    a = np.log(np.sum(np.exp(all_evals),axis = 0)) \n",
    "    \n",
    "    # compute cost in compact form using numpy broadcasting\n",
    "    b = all_evals[y.astype(int).flatten(),np.arange(np.size(y))]\n",
    "    cost = np.sum(a - b)\n",
    "    \n",
    "    # add regularizer\n",
    "    cost = cost + lam*np.linalg.norm(w[1:,:],'fro')**2\n",
    "    \n",
    "    # return average\n",
    "    return cost/float(np.size(y))"
   ]
  },
  {
   "cell_type": "markdown",
   "metadata": {},
   "source": [
    "Then we define the gradient descent function:"
   ]
  },
  {
   "cell_type": "code",
   "execution_count": 67,
   "metadata": {},
   "outputs": [],
   "source": [
    "from autograd import grad \n",
    "import autograd.numpy as np   \n",
    "from autograd import value_and_grad \n",
    "import matplotlib.pyplot as plt\n",
    "\n",
    "# gradient descent function \n",
    "def gradient_descent(g,alpha,max_its,w):\n",
    "    # compute gradient module using autograd\n",
    "    gradient = grad(g)\n",
    "\n",
    "    # run the gradient descent loop\n",
    "    weight_history = [w] # weight history container\n",
    "    cost_history = [g(w)] # cost function history container\n",
    "    for k in range(max_its):\n",
    "        # evaluate the gradient\n",
    "        grad_eval = gradient(w)\n",
    "\n",
    "        # take gradient descent step\n",
    "        w = w - alpha*grad_eval\n",
    "        \n",
    "        # record weight and cost\n",
    "        weight_history.append(w)\n",
    "        cost_history.append(g(w))\n",
    "    return weight_history,cost_history"
   ]
  },
  {
   "cell_type": "markdown",
   "metadata": {},
   "source": [
    "Then we define the cost funciton history plotter to visualize the cost function history:"
   ]
  },
  {
   "cell_type": "code",
   "execution_count": 68,
   "metadata": {},
   "outputs": [],
   "source": [
    "g = multiclass_softmax; w = 0.01*np.random.randn(3,4); max_its = 5000; alpha_choice = 0.01;\n",
    "weight_history,cost_history = gradient_descent(g,alpha_choice,max_its,w)"
   ]
  },
  {
   "cell_type": "markdown",
   "metadata": {},
   "source": [
    "Since w is randomized, therefore we want to know in each experiment what w is using and we print it out as following:"
   ]
  },
  {
   "cell_type": "code",
   "execution_count": 69,
   "metadata": {},
   "outputs": [
    {
     "data": {
      "text/plain": [
       "array([[ 0.0005488 ,  0.00279889,  0.00585516, -0.00428178],\n",
       "       [-0.00688702,  0.00202041, -0.00714687,  0.01370958],\n",
       "       [-0.00550608, -0.0090076 ,  0.01366805, -0.00275531]])"
      ]
     },
     "execution_count": 69,
     "metadata": {},
     "output_type": "execute_result"
    }
   ],
   "source": [
    "w"
   ]
  },
  {
   "cell_type": "markdown",
   "metadata": {},
   "source": [
    "We also print the last line of weight history:"
   ]
  },
  {
   "cell_type": "code",
   "execution_count": 70,
   "metadata": {},
   "outputs": [
    {
     "data": {
      "text/plain": [
       "array([[ 0.02480375, -0.91455246,  0.97486245, -0.08019267],\n",
       "       [-1.90884887,  0.95138025, -0.90813606,  1.86730074],\n",
       "       [ 1.71673491,  1.20501244, -1.17141699, -1.75393122]])"
      ]
     },
     "execution_count": 70,
     "metadata": {},
     "output_type": "execute_result"
    }
   ],
   "source": [
    "weight_history[-1]"
   ]
  },
  {
   "cell_type": "markdown",
   "metadata": {},
   "source": [
    "Then we define the cost funciton history plotter to visualize the cost function history:"
   ]
  },
  {
   "cell_type": "code",
   "execution_count": 71,
   "metadata": {},
   "outputs": [],
   "source": [
    "%matplotlib inline\n",
    "# the import statement for matplotlib\n",
    "import matplotlib.pyplot as plt\n",
    "\n",
    "# cost function history plotter\n",
    "def plot_cost_histories(cost_histories,labels):\n",
    "    # create figure\n",
    "    plt.figure()\n",
    "    \n",
    "    # loop over cost histories and plot each one\n",
    "    for j in range(len(cost_histories)):\n",
    "        history = cost_histories[j]\n",
    "        label = labels[j]\n",
    "        plt.plot(history,label = label)\n",
    "    plt.legend(loc='center left', bbox_to_anchor=(1, 0.5))\n",
    "    plt.show()"
   ]
  },
  {
   "cell_type": "markdown",
   "metadata": {},
   "source": [
    "Now we plot the cost history of multiclass softmax as below:"
   ]
  },
  {
   "cell_type": "code",
   "execution_count": 72,
   "metadata": {},
   "outputs": [
    {
     "data": {
      "image/png": "[encoded data removed]",
      "text/plain": [
       "<Figure size 432x288 with 1 Axes>"
      ]
     },
     "metadata": {},
     "output_type": "display_data"
    }
   ],
   "source": [
    "plot_cost_histories([cost_history],labels = [r'multiclass_softmax'])"
   ]
  },
  {
   "cell_type": "markdown",
   "metadata": {},
   "source": [
    "In order to confirm that we indeed obtain zero misclassification, we use the multiclass_illustrator module in superlearn library from Professor Jeremy Watt's [github](https://github.com/jermwatt/mlrefined/blob/gh-pages/mlrefined_libraries/superlearn_library/multiclass_illustrator.py):"
   ]
  },
  {
   "cell_type": "code",
   "execution_count": 73,
   "metadata": {},
   "outputs": [],
   "source": [
    "import sys\n",
    "sys.path.append('../')\n",
    "from superlearn_library import multiclass_illustrator"
   ]
  },
  {
   "cell_type": "code",
   "execution_count": 74,
   "metadata": {},
   "outputs": [],
   "source": [
    "E5 = multiclass_illustrator.Visualizer(data)"
   ]
  },
  {
   "cell_type": "markdown",
   "metadata": {},
   "source": [
    "We can count the misclassification of the image on the right and we can see that there are one green point and one red point which are misclassfied as blue class; one blue point, one green point and one orange point are misclassfied as red class; one red point and two green point are misclassified as orange class; No misclassification in green class. If we count the points are on the boundary line which are one blue point and one green point, we have totally ten misclassification based on our algorith. Therefore, our trained model achieves a small number of misclassiﬁcations (10 or fewer)."
   ]
  },
  {
   "cell_type": "code",
   "execution_count": 75,
   "metadata": {},
   "outputs": [
    {
     "data": {
      "image/png": "[encoded data removed]",
      "text/plain": [
       "<Figure size 648x288 with 2 Axes>"
      ]
     },
     "metadata": {},
     "output_type": "display_data"
    }
   ],
   "source": [
    "E5.show_complete_coloring(weight_history, cost = multiclass_softmax)"
   ]
  },
  {
   "cell_type": "markdown",
   "metadata": {},
   "source": [
    "# Chapter 8 Exercise 1"
   ]
  },
  {
   "cell_type": "markdown",
   "metadata": {},
   "source": [
    "As the simplest example imagine our spanning set was the set of  $N$  standard basis vectors. The  $n^{th}$  element of a standard basis takes the form of vectors that consist entirely of zeros, except for a  1  in its  $n^{th}$  slot. For the equation $w_p = C^{T}x_p$, when we use standard basis, it is trival that we can check that the perfect weight must be simplified as $w_{n,p} = x_{n,p}$, where each weight is simply equal to the value of the data point we aim to represent."
   ]
  },
  {
   "cell_type": "markdown",
   "metadata": {},
   "source": [
    "# Chapter 8 Exercise 2"
   ]
  },
  {
   "cell_type": "code",
   "execution_count": 2,
   "metadata": {},
   "outputs": [],
   "source": [
    "import matplotlib.pyplot as plt"
   ]
  },
  {
   "cell_type": "markdown",
   "metadata": {},
   "source": [
    "First we visualize the orginal data with spanning vector as follow:"
   ]
  },
  {
   "cell_type": "code",
   "execution_count": 3,
   "metadata": {},
   "outputs": [
    {
     "data": {
      "image/png": "[encoded data removed]",
      "text/plain": [
       "<Figure size 288x288 with 1 Axes>"
      ]
     },
     "metadata": {},
     "output_type": "display_data"
    }
   ],
   "source": [
    "%matplotlib inline\n",
    "# import autograd / numpy necessities\n",
    "from autograd import numpy as np\n",
    "\n",
    "# set path to datasets\n",
    "datapath = 'datasets/'\n",
    "# location of dataset\n",
    "csvname = datapath + '2d_span_data_centered.csv'\n",
    "\n",
    "# load in dataset\n",
    "X = np.loadtxt(csvname,delimiter = ',')\n",
    "\n",
    "# plot dataset\n",
    "\n",
    "figure = plt.figure(figsize = (4,4))\n",
    "ax = plt.axes()\n",
    "plt.scatter(X[0,:],X[1,:],s=60,c='k',edgecolor='w')\n",
    "ax.arrow(0, 0, 1, 2, head_width = 0.25, head_length = 0.25, fc = 'red', ec='red', linewidth=3)\n",
    "ax.arrow(0, 0, 2, 1, head_width = 0.25, head_length = 0.25, fc = 'red', ec='red', linewidth=3)\n",
    "plt.show()"
   ]
  },
  {
   "cell_type": "markdown",
   "metadata": {},
   "source": [
    "Then we print the shape of X:"
   ]
  },
  {
   "cell_type": "code",
   "execution_count": 4,
   "metadata": {},
   "outputs": [
    {
     "data": {
      "text/plain": [
       "(2, 50)"
      ]
     },
     "execution_count": 4,
     "metadata": {},
     "output_type": "execute_result"
    }
   ],
   "source": [
    "X.shape"
   ]
  },
  {
   "cell_type": "markdown",
   "metadata": {},
   "source": [
    "Then we construct the $C$:"
   ]
  },
  {
   "cell_type": "code",
   "execution_count": 5,
   "metadata": {},
   "outputs": [],
   "source": [
    "C = np.array([[2,1],[1,2]])"
   ]
  },
  {
   "cell_type": "markdown",
   "metadata": {},
   "source": [
    "Now we define the least squares cost function for computing the optimal weight vector $w_{p}$ and the gradient descent function for optimization:"
   ]
  },
  {
   "cell_type": "code",
   "execution_count": 7,
   "metadata": {},
   "outputs": [],
   "source": [
    "# least squares cost function for Equation 8.7\n",
    "def least_squares(W):\n",
    "    cost = np.sum((np.dot(C,W) - X)**2)\n",
    "    return cost/float(X.shape[1])\n",
    "\n",
    "from autograd import grad \n",
    "import autograd.numpy as np   \n",
    "from autograd import value_and_grad \n",
    "import matplotlib.pyplot as plt\n",
    "\n",
    "# gradient descent function \n",
    "def gradient_descent(g,alpha,max_its,w):\n",
    "    # compute gradient module using autograd\n",
    "    gradient = grad(g)\n",
    "\n",
    "    # run the gradient descent loop\n",
    "    weight_history = [w] # weight history container\n",
    "    cost_history = [g(w)] # cost function history container\n",
    "    for k in range(max_its):\n",
    "        # evaluate the gradient\n",
    "        grad_eval = gradient(w)\n",
    "\n",
    "        # take gradient descent step\n",
    "        w = w - alpha*grad_eval\n",
    "        \n",
    "        # record weight and cost\n",
    "        weight_history.append(w)\n",
    "        cost_history.append(g(w))\n",
    "    return weight_history,cost_history"
   ]
  },
  {
   "cell_type": "markdown",
   "metadata": {},
   "source": [
    "Then we set up the parameters for the least squares cost function optimization and optimize it:"
   ]
  },
  {
   "cell_type": "code",
   "execution_count": 8,
   "metadata": {},
   "outputs": [],
   "source": [
    "W = np.random.rand(2,50); g=least_squares;alpha_choice = 10**(-1); max_its = 2000; C = np.array([[2,1],[1,2]]);\n",
    "weight_history,cost_history = gradient_descent(g,alpha_choice,max_its,W)"
   ]
  },
  {
   "cell_type": "markdown",
   "metadata": {},
   "source": [
    "Then we define the cost function history plotter to visualize the cost history:"
   ]
  },
  {
   "cell_type": "code",
   "execution_count": 9,
   "metadata": {},
   "outputs": [],
   "source": [
    "%matplotlib inline\n",
    "# the import statement for matplotlib\n",
    "import matplotlib.pyplot as plt\n",
    "\n",
    "# cost function history plotter\n",
    "def plot_cost_histories(cost_histories,labels):\n",
    "    # create figure\n",
    "    plt.figure()\n",
    "    \n",
    "    # loop over cost histories and plot each one\n",
    "    for j in range(len(cost_histories)):\n",
    "        history = cost_histories[j]\n",
    "        label = labels[j]\n",
    "        plt.plot(history,label = label)\n",
    "    plt.legend(loc='center left', bbox_to_anchor=(1, 0.5))\n",
    "    plt.show()"
   ]
  },
  {
   "cell_type": "markdown",
   "metadata": {},
   "source": [
    "Now we visualize the cost history:"
   ]
  },
  {
   "cell_type": "code",
   "execution_count": 10,
   "metadata": {},
   "outputs": [
    {
     "data": {
      "image/png": "[encoded data removed]",
      "text/plain": [
       "<Figure size 432x288 with 1 Axes>"
      ]
     },
     "metadata": {},
     "output_type": "display_data"
    }
   ],
   "source": [
    "plot_cost_histories([cost_history],labels = [r'least_squares'])"
   ]
  },
  {
   "cell_type": "markdown",
   "metadata": {},
   "source": [
    "Now we define X_hat as the encoding data:"
   ]
  },
  {
   "cell_type": "code",
   "execution_count": 11,
   "metadata": {},
   "outputs": [],
   "source": [
    "X_hat=weight_history[-1]"
   ]
  },
  {
   "cell_type": "markdown",
   "metadata": {},
   "source": [
    "And then we visualize the encoding data and the spanning vector as follow:"
   ]
  },
  {
   "cell_type": "code",
   "execution_count": 12,
   "metadata": {},
   "outputs": [
    {
     "data": {
      "image/png": "[encoded data removed]",
      "text/plain": [
       "<Figure size 288x288 with 1 Axes>"
      ]
     },
     "metadata": {},
     "output_type": "display_data"
    }
   ],
   "source": [
    "figure = plt.figure(figsize = (4,4))\n",
    "ax = plt.axes()\n",
    "plt.scatter(X_hat[0,:],X_hat[1,:],s=60,c='k',edgecolor='w')\n",
    "ax.arrow(0, 0, 0, 1, head_width = 0.25, head_length = 0.25, fc = 'red', ec='red', linewidth=3)\n",
    "ax.arrow(0, 0, 1, 0, head_width = 0.25, head_length = 0.25, fc = 'red', ec='red', linewidth=3)\n",
    "plt.show()"
   ]
  },
  {
   "cell_type": "markdown",
   "metadata": {},
   "source": [
    "For your convience, we use the unsupervised library from Professor Jeremy Watt's [github](https://github.com/jermwatt/mlrefined/blob/gh-pages/mlrefined_libraries/unsupervised_library/span_animation.py):"
   ]
  },
  {
   "cell_type": "code",
   "execution_count": 13,
   "metadata": {},
   "outputs": [],
   "source": [
    "import sys\n",
    "sys.path.append('../')\n",
    "from mlrefined_libraries import unsupervised_library as unsuplib"
   ]
  },
  {
   "cell_type": "markdown",
   "metadata": {},
   "source": [
    "Now we reproduce the result of $Figure$ 8.2 and it is obvious that our results above is correct."
   ]
  },
  {
   "cell_type": "code",
   "execution_count": 14,
   "metadata": {},
   "outputs": [
    {
     "data": {
      "image/png": "[encoded data removed]",
      "text/plain": [
       "<Figure size 720x288 with 2 Axes>"
      ]
     },
     "metadata": {},
     "output_type": "display_data"
    }
   ],
   "source": [
    "unsuplib.span_animation.perfect_visualize_transform_static(C,X=X)"
   ]
  },
  {
   "cell_type": "markdown",
   "metadata": {},
   "source": [
    "# Chapter 8 Exercise 4"
   ]
  },
  {
   "cell_type": "code",
   "execution_count": 77,
   "metadata": {},
   "outputs": [],
   "source": [
    "import matplotlib.pyplot as plt"
   ]
  },
  {
   "cell_type": "markdown",
   "metadata": {},
   "source": [
    "First we visualize the orginal data as below:"
   ]
  },
  {
   "cell_type": "code",
   "execution_count": 78,
   "metadata": {},
   "outputs": [
    {
     "data": {
      "image/png": "[encoded data removed]",
      "text/plain": [
       "<Figure size 288x288 with 1 Axes>"
      ]
     },
     "metadata": {},
     "output_type": "display_data"
    }
   ],
   "source": [
    "%matplotlib inline\n",
    "# import autograd / numpy necessities\n",
    "from autograd import numpy as np\n",
    "\n",
    "# set path to datasets\n",
    "datapath = 'datasets/'\n",
    "# location of dataset\n",
    "csvname = datapath + '2d_span_data_centered.csv'\n",
    "\n",
    "# load in dataset\n",
    "X = np.loadtxt(csvname,delimiter = ',')\n",
    "\n",
    "# plot dataset\n",
    "figure = plt.figure(figsize = (4,4))\n",
    "plt.scatter(X[0,:],X[1,:],s=60,c='k',edgecolor='w')\n",
    "plt.show()"
   ]
  },
  {
   "cell_type": "markdown",
   "metadata": {},
   "source": [
    "Now we print the shape of X:"
   ]
  },
  {
   "cell_type": "code",
   "execution_count": 79,
   "metadata": {},
   "outputs": [
    {
     "data": {
      "text/plain": [
       "(2, 50)"
      ]
     },
     "execution_count": 79,
     "metadata": {},
     "output_type": "execute_result"
    }
   ],
   "source": [
    "X.shape"
   ]
  },
  {
   "cell_type": "markdown",
   "metadata": {},
   "source": [
    "Then we simulate the function $g(C)$ as $Equation$ 8.17 in chapter 8:"
   ]
  },
  {
   "cell_type": "code",
   "execution_count": 80,
   "metadata": {},
   "outputs": [],
   "source": [
    "C = np.array([[-3.5],[3.5]])\n",
    "\n",
    "def g(C):\n",
    "    cost = np.sum((np.dot(C,np.dot(C.T,X)) - X)**2)\n",
    "    return cost/float(X.shape[1])\n",
    "\n",
    "\n",
    "c1 = np.linspace(-5,5,500)\n",
    "c2 = np.linspace(-5,5,500)\n",
    "y = []\n",
    "for i in range(c1.shape[0]):\n",
    "    for j in range(c2.shape[0]):\n",
    "        y.append(g(np.array([[c1[i]],[c2[j]]])))"
   ]
  },
  {
   "cell_type": "markdown",
   "metadata": {},
   "source": [
    "Now we print our the value of $g(C)$ in our simulation:"
   ]
  },
  {
   "cell_type": "code",
   "execution_count": 81,
   "metadata": {},
   "outputs": [
    {
     "data": {
      "text/plain": [
       "[2574.862898783015,\n",
       " 2545.843165128322,\n",
       " 2517.2904824770485,\n",
       " 2489.200534041652,\n",
       " 2461.5690305009834,\n",
       " 2434.391710000272,\n",
       " 2407.6643381511326,\n",
       " 2381.3827080315596,\n",
       " 2355.5426401859363,\n",
       " 2330.1399826250267,\n",
       " 2305.170610825981,\n",
       " 2280.6304277323284,\n",
       " 2256.5153637539865,\n",
       " 2232.821376767255,\n",
       " 2209.5444521148147,\n",
       " 2186.680602605734,\n",
       " 2164.225868515463,\n",
       " 2142.1763175858346,\n",
       " 2120.5280450250675,\n",
       " 2099.277173507763,\n",
       " 2078.4198531749057,\n",
       " 2057.9522616338636,\n",
       " 2037.870603958389,\n",
       " 2018.1711126886178,\n",
       " 1998.8500478310702,\n",
       " 1979.9036968586488,\n",
       " 1961.3283747106398,\n",
       " 1943.1204237927145,\n",
       " 1925.276213976927,\n",
       " 1907.792142601714,\n",
       " 1890.6646344718977,\n",
       " 1873.890141858683,\n",
       " 1857.465144499659,\n",
       " 1841.386149598797,\n",
       " 1825.6496918264531,\n",
       " 1810.2523333193683,\n",
       " 1795.1906636806643,\n",
       " 1780.461299979848,\n",
       " 1766.0608867528108,\n",
       " 1751.9860960018277,\n",
       " 1738.233627195554,\n",
       " 1724.800207269033,\n",
       " 1711.6825906236907,\n",
       " 1698.8775591273336,\n",
       " 1686.3819221141548,\n",
       " 1674.1925163847316,\n",
       " 1662.3062062060228,\n",
       " 1650.7198833113719,\n",
       " 1639.430466900506,\n",
       " 1628.4349036395363,\n",
       " 1617.7301676609566,\n",
       " 1607.3132605636442,\n",
       " 1597.1812114128618,\n",
       " 1587.331076740255,\n",
       " 1577.7599405438516,\n",
       " 1568.4649142880648,\n",
       " 1559.4431369036904,\n",
       " 1550.691774787909,\n",
       " 1542.2080218042836,\n",
       " 1533.9890992827613,\n",
       " 1526.0322560196737,\n",
       " 1518.3347682777344,\n",
       " 1510.8939397860418,\n",
       " 1503.7071017400774,\n",
       " 1496.7716128017075,\n",
       " 1490.084859099181,\n",
       " 1483.6442542271293,\n",
       " 1477.4472392465693,\n",
       " 1471.4912826849024,\n",
       " 1465.7738805359113,\n",
       " 1460.2925562597625,\n",
       " 1455.0448607830083,\n",
       " 1450.0283724985825,\n",
       " 1445.240697265804,\n",
       " 1440.679468410374,\n",
       " 1436.3423467243786,\n",
       " 1432.2270204662866,\n",
       " 1428.3312053609511,\n",
       " 1424.6526445996083,\n",
       " 1421.189108839879,\n",
       " 1417.9383962057664,\n",
       " 1414.8983322876581,\n",
       " 1412.0667701423256,\n",
       " 1409.4415902929231,\n",
       " 1407.0207007289891,\n",
       " 1404.8020369064457,\n",
       " 1402.7835617475985,\n",
       " 1400.9632656411372,\n",
       " 1399.3391664421342,\n",
       " 1397.909309472047,\n",
       " 1396.6717675187147,\n",
       " 1395.6246408363627,\n",
       " 1394.7660571455976,\n",
       " 1394.0941716334107,\n",
       " 1393.607166953177,\n",
       " 1393.3032532246552,\n",
       " 1393.180668033987,\n",
       " 1393.2376764336989,\n",
       " 1393.4725709427,\n",
       " 1393.8836715462835,\n",
       " 1394.4693256961261,\n",
       " 1395.2279083102878,\n",
       " 1396.1578217732133,\n",
       " 1397.2574959357305,\n",
       " 1398.5253881150502,\n",
       " 1399.9599830947677,\n",
       " 1401.5597931248617,\n",
       " 1403.3233579216944,\n",
       " 1405.2492446680117,\n",
       " 1407.3360480129431,\n",
       " 1409.5823900720022,\n",
       " 1411.9869204270858,\n",
       " 1414.5483161264744,\n",
       " 1417.265281684832,\n",
       " 1420.136549083207,\n",
       " 1423.1608777690305,\n",
       " 1426.3370546561182,\n",
       " 1429.6638941246679,\n",
       " 1433.140238021263,\n",
       " 1436.7649556588688,\n",
       " 1440.536943816836,\n",
       " 1444.455126740897,\n",
       " 1448.5184561431688,\n",
       " 1452.7259112021532,\n",
       " 1457.0764985627334,\n",
       " 1461.5692523361786,\n",
       " 1466.2032341001398,\n",
       " 1470.977532898652,\n",
       " 1475.891265242134,\n",
       " 1480.9435751073888,\n",
       " 1486.1336339376032,\n",
       " 1491.4606406423468,\n",
       " 1496.923821597572,\n",
       " 1502.5224306456169,\n",
       " 1508.2557490952022,\n",
       " 1514.1230857214325,\n",
       " 1520.123776765796,\n",
       " 1526.2571859361644,\n",
       " 1532.5227044067929,\n",
       " 1538.9197508183208,\n",
       " 1545.4477712777707,\n",
       " 1552.1062393585487,\n",
       " 1558.8946561004452,\n",
       " 1565.8125500096344,\n",
       " 1572.8594770586724,\n",
       " 1580.0350206865012,\n",
       " 1587.3387917984448,\n",
       " 1594.7704287662116,\n",
       " 1602.3295974278933,\n",
       " 1610.0159910879665,\n",
       " 1617.8293305172886,\n",
       " 1625.7693639531042,\n",
       " 1633.835867099039,\n",
       " 1642.0286431251027,\n",
       " 1650.3475226676906,\n",
       " 1658.792363829579,\n",
       " 1667.3630521799291,\n",
       " 1676.059500754285,\n",
       " 1684.8816500545768,\n",
       " 1693.8294680491151,\n",
       " 1702.9029501725963,\n",
       " 1712.102119326099,\n",
       " 1721.4270258770878,\n",
       " 1730.8777476594082,\n",
       " 1740.4543899732898,\n",
       " 1750.1570855853479,\n",
       " 1759.9859947285793,\n",
       " 1769.941305102365,\n",
       " 1780.0232318724711,\n",
       " 1790.232017671045,\n",
       " 1800.5679325966194,\n",
       " 1811.0312742141095,\n",
       " 1821.622367554816,\n",
       " 1832.3415651164205,\n",
       " 1843.1892468629912,\n",
       " 1854.1658202249776,\n",
       " 1865.271720099214,\n",
       " 1876.5074088489187,\n",
       " 1887.8733763036917,\n",
       " 1899.3701397595191,\n",
       " 1910.9982439787698,\n",
       " 1922.758261190195,\n",
       " 1934.6507910889313,\n",
       " 1946.6764608364995,\n",
       " 1958.8359250608012,\n",
       " 1971.1298658561236,\n",
       " 1983.558992783137,\n",
       " 1996.1240428688966,\n",
       " 2008.8257806068398,\n",
       " 2021.6649979567883,\n",
       " 2034.6425143449464,\n",
       " 2047.7591766639046,\n",
       " 2061.0158592726334,\n",
       " 2074.4134639964896,\n",
       " 2087.9529201272135,\n",
       " 2101.635184422929,\n",
       " 2115.461241108141,\n",
       " 2129.4321018737414,\n",
       " 2143.548805877005,\n",
       " 2157.8124197415896,\n",
       " 2172.2240375575366,\n",
       " 2186.784780881271,\n",
       " 2201.4957987356033,\n",
       " 2216.3582676097235,\n",
       " 2231.3733914592103,\n",
       " 2246.5424017060222,\n",
       " 2261.8665572385034,\n",
       " 2277.3471444113798,\n",
       " 2292.985477045763,\n",
       " 2308.782896429149,\n",
       " 2324.740771315414,\n",
       " 2340.86049792482,\n",
       " 2357.1434999440125,\n",
       " 2373.5912285260215,\n",
       " 2390.2051622902586,\n",
       " 2406.986807322521,\n",
       " 2423.937697174989,\n",
       " 2441.0593928662247,\n",
       " 2458.3534828811767,\n",
       " 2475.821583171176,\n",
       " 2493.465337153936,\n",
       " 2511.2864157135573,\n",
       " 2529.286517200519,\n",
       " 2547.4673674316887,\n",
       " 2565.8307196903147,\n",
       " 2584.378354726029,\n",
       " 2603.112080754851,\n",
       " 2622.033733459179,\n",
       " 2641.1451759877964,\n",
       " 2660.448298955869,\n",
       " 2679.945020444953,\n",
       " 2699.637286002979,\n",
       " 2719.527068644267,\n",
       " 2739.616368849517,\n",
       " 2759.9072145658183,\n",
       " 2780.401661206638,\n",
       " 2801.101791651828,\n",
       " 2822.009716247628,\n",
       " 2843.1275728066566,\n",
       " 2864.4575266079173,\n",
       " 2886.001770396796,\n",
       " 2907.762524385068,\n",
       " 2929.7420362508874,\n",
       " 2951.94258113879,\n",
       " 2974.3664616597002,\n",
       " 2997.016007890923,\n",
       " 3019.893577376148,\n",
       " 3043.001555125448,\n",
       " 3066.342353615282,\n",
       " 3089.918412788488,\n",
       " 3113.7322000542895,\n",
       " 3137.7862102882964,\n",
       " 3162.0829658324983,\n",
       " 3186.625016495273,\n",
       " 3211.414939551376,\n",
       " 3236.455339741949,\n",
       " 3261.748849274522,\n",
       " 3287.2981278230027,\n",
       " 3313.1058625276837,\n",
       " 3339.174767995241,\n",
       " 3365.5075862987387,\n",
       " 3392.1070869776177,\n",
       " 3418.976067037706,\n",
       " 3446.117350951218,\n",
       " 3473.533790656745,\n",
       " 3501.2282655592694,\n",
       " 3529.2036825301498,\n",
       " 3557.462975907136,\n",
       " 3586.0091074943584,\n",
       " 3614.845066562324,\n",
       " 3643.973869847937,\n",
       " 3673.3985615544743,\n",
       " 3703.122213351602,\n",
       " 3733.1479243753665,\n",
       " 3763.4788212282006,\n",
       " 3794.118057978919,\n",
       " 3825.0688161627213,\n",
       " 3856.334304781188,\n",
       " 3887.9177603022895,\n",
       " 3919.822446660372,\n",
       " 3952.0516552561685,\n",
       " 3984.6087049568,\n",
       " 4017.4969420957655,\n",
       " 4050.7197404729486,\n",
       " 4084.280501354617,\n",
       " 4118.182653473425,\n",
       " 4152.429653028406,\n",
       " 4187.024983684981,\n",
       " 4221.972156574949,\n",
       " 4257.2747102964995,\n",
       " 4292.936210914204,\n",
       " 4328.960251959011,\n",
       " 4365.350454428261,\n",
       " 4402.110466785676,\n",
       " 4439.243964961361,\n",
       " 4476.754652351798,\n",
       " 4514.646259819868,\n",
       " 4552.92254569482,\n",
       " 4591.587295772296,\n",
       " 4630.644323314317,\n",
       " 4670.097469049293,\n",
       " 4709.950601172011,\n",
       " 4750.207615343645,\n",
       " 4790.872434691753,\n",
       " 4831.949009810277,\n",
       " 4873.44131875954,\n",
       " 4915.353367066252,\n",
       " 4957.689187723505,\n",
       " 5000.452841190774,\n",
       " 5043.648415393918,\n",
       " 5087.28002572518,\n",
       " 5131.35181504319,\n",
       " 5175.867953672952,\n",
       " 5220.832639405864,\n",
       " 5266.2500974997065,\n",
       " 5312.124580678634,\n",
       " 5358.460369133196,\n",
       " 5405.261770520319,\n",
       " 5452.533119963316,\n",
       " 5500.2787800518845,\n",
       " 5548.503140842098,\n",
       " 5597.210619856426,\n",
       " 5646.405662083713,\n",
       " 5696.092739979192,\n",
       " 5746.276353464471,\n",
       " 5796.961029927555,\n",
       " 5848.1513242228175,\n",
       " 5899.8518186710335,\n",
       " 5952.06712305934,\n",
       " 6004.80187464128,\n",
       " 6058.060738136762,\n",
       " 6111.848405732087,\n",
       " 6166.169597079941,\n",
       " 6221.02905929939,\n",
       " 6276.431566975886,\n",
       " 6332.381922161259,\n",
       " 6388.8849543737315,\n",
       " 6445.9455205979,\n",
       " 6503.568505284755,\n",
       " 6561.758820351659,\n",
       " 6620.521405182371,\n",
       " 6679.861226627025,\n",
       " 6739.783279002137,\n",
       " 6800.2925840906155,\n",
       " 6861.394191141747,\n",
       " 6923.093176871197,\n",
       " 6985.394645461024,\n",
       " 7048.303728559668,\n",
       " 7111.8255852819475,\n",
       " 7175.96540220907,\n",
       " 7240.72839338862,\n",
       " 7306.119800334575,\n",
       " 7372.144892027289,\n",
       " 7438.808964913498,\n",
       " 7506.117342906334,\n",
       " 7574.075377385299,\n",
       " 7642.688447196288,\n",
       " 7711.9619586515655,\n",
       " 7781.901345529803,\n",
       " 7852.512069076034,\n",
       " 7923.799618001686,\n",
       " 7995.769508484563,\n",
       " 8068.427284168865,\n",
       " 8141.778516165169,\n",
       " 8215.828803050426,\n",
       " 8290.583770867988,\n",
       " 8366.049073127584,\n",
       " 8442.230390805316,\n",
       " 8519.133432343682,\n",
       " 8596.763933651568,\n",
       " 8675.127658104228,\n",
       " 8754.230396543308,\n",
       " 8834.077967276833,\n",
       " 8914.676216079228,\n",
       " 8996.031016191282,\n",
       " 9078.148268320172,\n",
       " 9161.033900639472,\n",
       " 9244.693868789118,\n",
       " 9329.134155875448,\n",
       " 9414.360772471175,\n",
       " 9500.379756615399,\n",
       " 9587.197173813602,\n",
       " 9674.819117037645,\n",
       " 9763.25170672578,\n",
       " 9852.501090782642,\n",
       " 9942.573444579248,\n",
       " 10033.474970952991,\n",
       " 10125.211900207665,\n",
       " 10217.790490113433,\n",
       " 10311.217025906848,\n",
       " 10405.497820290839,\n",
       " 10500.63921343473,\n",
       " 10596.647572974225,\n",
       " 10693.529294011409,\n",
       " 10791.290799114739,\n",
       " 10889.93853831909,\n",
       " 10989.47898912568,\n",
       " 11089.918656502135,\n",
       " 11191.264072882468,\n",
       " 11293.52179816706,\n",
       " 11396.698419722668,\n",
       " 11500.800552382476,\n",
       " 11605.834838446002,\n",
       " 11711.807947679174,\n",
       " 11818.7265773143,\n",
       " 11926.59745205007,\n",
       " 12035.427324051538,\n",
       " 12145.222972950194,\n",
       " 12255.991205843862,\n",
       " 12367.738857296763,\n",
       " 12480.472789339512,\n",
       " 12594.199891469098,\n",
       " 12708.927080648891,\n",
       " 12824.661301308652,\n",
       " 12941.40952534452,\n",
       " 13059.178752119034,\n",
       " 13177.976008461097,\n",
       " 13297.808348666003,\n",
       " 13418.682854495426,\n",
       " 13540.606635177428,\n",
       " 13663.586827406458,\n",
       " 13787.630595343326,\n",
       " 13912.745130615265,\n",
       " 14038.937652315868,\n",
       " 14166.215407005104,\n",
       " 14294.585668709346,\n",
       " 14424.055738921328,\n",
       " 14554.63294660019,\n",
       " 14686.324648171429,\n",
       " 14819.138227526972,\n",
       " 14953.081096025078,\n",
       " 15088.160692490419,\n",
       " 15224.384483214037,\n",
       " 15361.759961953372,\n",
       " 15500.294649932233,\n",
       " 15639.99609584082,\n",
       " 15780.871875835704,\n",
       " 15922.929593539877,\n",
       " 16066.176880042676,\n",
       " 16210.621393899833,\n",
       " 16356.270821133472,\n",
       " 16503.132875232088,\n",
       " 16651.215297150564,\n",
       " 16800.52585531016,\n",
       " 16951.07234559855,\n",
       " 17102.86259136976,\n",
       " 17255.904443444208,\n",
       " 17410.2057801087,\n",
       " 17565.774507116414,\n",
       " 17722.618557686925,\n",
       " 17880.745892506176,\n",
       " 18040.164499726525,\n",
       " 18200.882394966684,\n",
       " 18362.907621311766,\n",
       " 18526.24824931324,\n",
       " 18690.912376989,\n",
       " 18856.90812982328,\n",
       " 19024.243660766737,\n",
       " 19192.92715023637,\n",
       " 19362.96680611562,\n",
       " 19534.370863754255,\n",
       " 19707.147585968458,\n",
       " 19881.305263040784,\n",
       " 20056.852212720165,\n",
       " 20233.796780221935,\n",
       " 20412.14733822779,\n",
       " 20591.91228688585,\n",
       " 20773.100053810573,\n",
       " 20955.71909408282,\n",
       " 21139.777890249832,\n",
       " 21325.284952325233,\n",
       " 21512.24881778905,\n",
       " 21700.67805158764,\n",
       " 21890.581246133825,\n",
       " 22081.967021306755,\n",
       " 22274.844024451948,\n",
       " 22469.22093038136,\n",
       " 22665.106441373307,\n",
       " 22862.509287172463,\n",
       " 23061.43822498992,\n",
       " 23261.902039503126,\n",
       " 23463.909542855952,\n",
       " 23667.46957465862,\n",
       " 23872.591001987745,\n",
       " 24079.282719386312,\n",
       " 24287.553648863723,\n",
       " 24497.412739895735,\n",
       " 24708.868969424475,\n",
       " 24921.9313418585,\n",
       " 25136.608889072733,\n",
       " 25352.910670408448,\n",
       " 25570.845772673358,\n",
       " 25790.42331014151,\n",
       " 26011.652424553362,\n",
       " 26234.54228511572,\n",
       " 26459.102088501844,\n",
       " 26685.34105885132,\n",
       " 26913.268447770133,\n",
       " 27142.893534330662,\n",
       " 27374.225625071642,\n",
       " 2562.3141303566676,\n",
       " 2533.1814482561017,\n",
       " 2504.5162990958784,\n",
       " 2476.314356088957,\n",
       " 2448.571319914685,\n",
       " 2421.282918718789,\n",
       " 2394.444908113384,\n",
       " 2368.053071176963,\n",
       " 2342.103218454408,\n",
       " 2316.591187956981,\n",
       " 2291.5128451623295,\n",
       " 2266.864083014484,\n",
       " 2242.6408219238588,\n",
       " 2218.839009767252,\n",
       " 2195.454621887844,\n",
       " 2172.4836610952016,\n",
       " 2149.922157665272,\n",
       " 2127.7661693403907,\n",
       " 2106.01178132927,\n",
       " 2084.6551063070124,\n",
       " 2063.6922844151004,\n",
       " 2043.1194832614003,\n",
       " 2022.9328979201644,\n",
       " 2003.1287509320255,\n",
       " 1983.7032923040042,\n",
       " 1964.6527995094991,\n",
       " 1945.9735774882968,\n",
       " 1927.6619586465667,\n",
       " 1909.7143028568619,\n",
       " 1892.1269974581176,\n",
       " 1874.8964572556536,\n",
       " 1858.019124521174,\n",
       " 1841.4914689927664,\n",
       " 1825.3099878749013,\n",
       " 1809.4712058384323,\n",
       " 1793.9716750205996,\n",
       " 1778.807975025023,\n",
       " 1763.9767129217093,\n",
       " 1749.4745232470468,\n",
       " 1735.2980680038097,\n",
       " 1721.4440366611523,\n",
       " 1707.909146154616,\n",
       " 1694.6901408861245,\n",
       " 1681.7837927239846,\n",
       " 1669.1869010028877,\n",
       " 1656.8962925239084,\n",
       " 1644.9088215545055,\n",
       " 1633.2213698285198,\n",
       " 1621.8308465461776,\n",
       " 1610.7341883740883,\n",
       " 1599.9283594452454,\n",
       " 1589.4103513590235,\n",
       " 1579.1771831811839,\n",
       " 1569.2259014438716,\n",
       " 1559.5535801456126,\n",
       " 1550.1573207513188,\n",
       " 1541.0342521922837,\n",
       " 1532.1815308661878,\n",
       " 1523.5963406370915,\n",
       " 1515.275892835441,\n",
       " 1507.2174262580666,\n",
       " 1499.4182071681807,\n",
       " 1491.8755292953792,\n",
       " 1484.5867138356434,\n",
       " 1477.5491094513368,\n",
       " 1470.760092271208,\n",
       " 1464.217065890387,\n",
       " 1457.9174613703892,\n",
       " 1451.8587372391135,\n",
       " 1446.038379490842,\n",
       " 1440.4539015862401,\n",
       " 1435.1028444523586,\n",
       " 1429.9827764826287,\n",
       " 1425.0912935368688,\n",
       " 1420.426018941279,\n",
       " 1415.9846034884429,\n",
       " 1411.764725437329,\n",
       " 1407.764090513288,\n",
       " 1403.9804319080563,\n",
       " 1400.4115102797507,\n",
       " 1397.0551137528755,\n",
       " 1393.9090579183148,\n",
       " 1390.9711858333394,\n",
       " 1388.2393680216032,\n",
       " 1385.711502473142,\n",
       " 1383.3855146443761,\n",
       " 1381.2593574581117,\n",
       " 1379.331011303535,\n",
       " 1377.5984840362182,\n",
       " 1376.0598109781158,\n",
       " 1374.7130549175674,\n",
       " 1373.5563061092957,\n",
       " 1372.5876822744062,\n",
       " 1371.805328600389,\n",
       " 1371.2074177411173,\n",
       " 1370.7921498168487,\n",
       " 1370.5577524142236,\n",
       " 1370.5024805862663,\n",
       " 1370.6246168523849,\n",
       " 1370.9224711983716,\n",
       " 1371.3943810764008,\n",
       " 1372.038711405032,\n",
       " 1372.8538545692081,\n",
       " 1373.838230420255,\n",
       " 1374.990286275883,\n",
       " 1376.3084969201855,\n",
       " 1377.7913646036397,\n",
       " 1379.4374190431063,\n",
       " 1381.24521742183,\n",
       " 1383.2133443894386,\n",
       " 1385.340412061945,\n",
       " 1387.6250600217434,\n",
       " 1390.0659553176138,\n",
       " 1392.661792464719,\n",
       " 1395.4112934446043,\n",
       " 1398.3132077052016,\n",
       " 1401.3663121608229,\n",
       " 1404.5694111921662,\n",
       " 1407.9213366463125,\n",
       " 1411.4209478367268,\n",
       " 1415.0671315432573,\n",
       " 1418.8588020121358,\n",
       " 1422.7949009559782,\n",
       " 1426.8743975537827,\n",
       " 1431.0962884509333,\n",
       " 1435.4595977591962,\n",
       " 1439.9633770567216,\n",
       " 1444.6067053880438,\n",
       " 1449.38868926408,\n",
       " 1454.3084626621308,\n",
       " 1459.3651870258816,\n",
       " 1464.5580512654008,\n",
       " 1469.8862717571403,\n",
       " 1475.3490923439363,\n",
       " 1480.9457843350074,\n",
       " 1486.6756465059577,\n",
       " 1492.5380050987733,\n",
       " 1498.5322138218244,\n",
       " 1504.6576538498648,\n",
       " 1510.9137338240328,\n",
       " 1517.2998898518488,\n",
       " 1523.815585507219,\n",
       " 1530.4603118304312,\n",
       " 1537.2335873281577,\n",
       " 1544.1349579734542,\n",
       " 1551.1639972057608,\n",
       " 1558.3203059309003,\n",
       " 1565.6035125210792,\n",
       " 1573.0132728148883,\n",
       " 1580.5492701173018,\n",
       " 1588.2112151996778,\n",
       " 1595.998846299757,\n",
       " 1603.9119291216653,\n",
       " 1611.9502568359103,\n",
       " 1620.1136500793855,\n",
       " 1628.401956955366,\n",
       " 1636.8150530335122,\n",
       " 1645.3528413498666,\n",
       " 1654.0152524068574,\n",
       " 1662.8022441732944,\n",
       " 1671.7138020843722,\n",
       " 1680.7499390416676,\n",
       " 1689.910695413144,\n",
       " 1699.196139033145,\n",
       " 1708.6063652024004,\n",
       " 1718.1414966880225,\n",
       " 1727.8016837235073,\n",
       " 1737.5871040087345,\n",
       " 1747.4979627099674,\n",
       " 1757.5344924598537,\n",
       " 1767.696953357424,\n",
       " 1777.9856329680924,\n",
       " 1788.400846323657,\n",
       " 1798.9429359223002,\n",
       " 1809.6122717285864,\n",
       " 1820.4092511734648,\n",
       " 1831.3342991542681,\n",
       " 1842.3878680347125,\n",
       " 1853.5704376448987,\n",
       " 1864.8825152813092,\n",
       " 1876.324635706812,\n",
       " 1887.8973611506578,\n",
       " 1899.6012813084808,\n",
       " 1911.437013342299,\n",
       " 1923.4052018805153,\n",
       " 1935.5065190179146,\n",
       " 1947.7416643156655,\n",
       " 1960.111364801322,\n",
       " 1972.6163749688192,\n",
       " 1985.2574767784777,\n",
       " 1998.0354796570018,\n",
       " 2010.9512204974783,\n",
       " 2024.0055636593775,\n",
       " 2037.1994009685552,\n",
       " 2050.5336517172495,\n",
       " 2064.009262664082,\n",
       " 2077.627208034059,\n",
       " 2091.388489518569,\n",
       " 2105.294136275385,\n",
       " 2119.345204928664,\n",
       " 2133.5427795689457,\n",
       " 2147.887971753154,\n",
       " 2162.381920504597,\n",
       " 2177.0257923129657,\n",
       " 2191.8207811343345,\n",
       " 2206.7681083911625,\n",
       " 2221.869022972291,\n",
       " 2237.1248012329456,\n",
       " 2252.5367469947373,\n",
       " 2268.1061915456576,\n",
       " 2283.8344936400836,\n",
       " 2299.723039498775,\n",
       " 2315.773242808877,\n",
       " 2331.9865447239176,\n",
       " 2348.3644138638056,\n",
       " 2364.9083463148386,\n",
       " 2381.6198656296942,\n",
       " 2398.5005228274345,\n",
       " 2415.551896393505,\n",
       " 2432.7755922797364,\n",
       " 2450.1732439043403,\n",
       " 2467.746512151916,\n",
       " 2485.4970853734408,\n",
       " 2503.4266793862816,\n",
       " 2521.5370374741847,\n",
       " 2539.829930387281,\n",
       " 2558.3071563420867,\n",
       " 2576.9705410215015,\n",
       " 2595.8219375748054,\n",
       " 2614.8632266176655,\n",
       " 2634.0963162321323,\n",
       " 2653.523141966638,\n",
       " 2673.1456668359997,\n",
       " 2692.965881321418,\n",
       " 2712.985803370477,\n",
       " 2733.207478397146,\n",
       " 2753.632979281775,\n",
       " 2774.2644063710995,\n",
       " 2795.1038874782394,\n",
       " 2816.1535778826974,\n",
       " 2837.415660330356,\n",
       " 2858.89234503349,\n",
       " 2880.5858696707496,\n",
       " 2902.498499387172,\n",
       " 2924.632526794179,\n",
       " 2946.9902719695765,\n",
       " 2969.57408245755,\n",
       " 2992.3863332686724,\n",
       " 3015.429426879898,\n",
       " 3038.705793234567,\n",
       " 3062.217889742402,\n",
       " 3085.9682012795074,\n",
       " 3109.959240188375,\n",
       " 3134.1935462778797,\n",
       " 3158.673686823276,\n",
       " 3183.4022565662035,\n",
       " 3208.3818777146926,\n",
       " 3233.615199943147,\n",
       " 3259.1049003923563,\n",
       " 3284.8536836695025,\n",
       " 3310.864281848141,\n",
       " 3337.1394544682153,\n",
       " 3363.681988536049,\n",
       " 3390.494698524357,\n",
       " 3417.5804263722307,\n",
       " 3444.942041485147,\n",
       " 3472.5824407349664,\n",
       " 3500.504548459937,\n",
       " 3528.7113164646826,\n",
       " 3557.205724020216,\n",
       " 3585.9907778639376,\n",
       " 3615.069512199621,\n",
       " 3644.4449886974307,\n",
       " 3674.1202964939143,\n",
       " 3704.098552192002,\n",
       " 3734.3828998610074,\n",
       " 3764.976511036628,\n",
       " 3795.8825847209437,\n",
       " 3827.1043473824207,\n",
       " 3858.6450529559074,\n",
       " 3890.507982842634,\n",
       " 3922.6964459102205,\n",
       " 3955.2137784926636,\n",
       " 3988.0633443903453,\n",
       " 4021.2485348700325,\n",
       " 4054.7727686648777,\n",
       " 4088.6394919744134,\n",
       " 4122.852178464559,\n",
       " 4157.414329267613,\n",
       " 4192.329472982261,\n",
       " 4227.601165673573,\n",
       " 4263.232990873,\n",
       " 4299.228559578379,\n",
       " 4335.591510253928,\n",
       " 4372.325508830253,\n",
       " 4409.434248704336,\n",
       " 4446.921450739553,\n",
       " 4484.790863265655,\n",
       " 4523.046262078782,\n",
       " 4561.691450441449,\n",
       " 4600.730259082569,\n",
       " 4640.166546197429,\n",
       " 4680.004197447697,\n",
       " 4720.247125961434,\n",
       " 4760.899272333077,\n",
       " 4801.96460462345,\n",
       " 4843.447118359758,\n",
       " 4885.350836535597,\n",
       " 4927.679809610936,\n",
       " 4970.438115512137,\n",
       " 5013.629859631936,\n",
       " 5057.259174829463,\n",
       " 5101.330221430226,\n",
       " 5145.847187226115,\n",
       " 5190.814287475409,\n",
       " 5236.235764902768,\n",
       " 5282.115889699233,\n",
       " 5328.458959522233,\n",
       " 5375.269299495578,\n",
       " 5422.551262209465,\n",
       " 5470.309227720465,\n",
       " 5518.547603551547,\n",
       " 5567.270824692054,\n",
       " 5616.483353597716,\n",
       " 5666.1896801906405,\n",
       " 5716.394321859331,\n",
       " 5767.101823458664,\n",
       " 5818.316757309903,\n",
       " 5870.04372320069,\n",
       " 5922.287348385069,\n",
       " 5975.052287583444,\n",
       " 6028.343222982613,\n",
       " 6082.164864235767,\n",
       " 6136.5219484624595,\n",
       " 6191.419240248651,\n",
       " 6246.861531646664,\n",
       " 6302.853642175221,\n",
       " 6359.400418819423,\n",
       " 6416.506736030751,\n",
       " 6474.17749572707,\n",
       " 6532.417627292638,\n",
       " 6591.232087578084,\n",
       " 6650.625860900425,\n",
       " 6710.603959043068,\n",
       " 6771.171421255799,\n",
       " 6832.333314254784,\n",
       " 6894.094732222571,\n",
       " 6956.460796808108,\n",
       " 7019.43665712671,\n",
       " 7083.02748976008,\n",
       " 7147.238498756302,\n",
       " 7212.074915629854,\n",
       " 7277.541999361589,\n",
       " 7343.64503639874,\n",
       " 7410.389340654938,\n",
       " 7477.780253510183,\n",
       " 7545.823143810865,\n",
       " 7614.523407869757,\n",
       " 7683.886469466017,\n",
       " 7753.9177798451865,\n",
       " 7824.622817719185,\n",
       " 7896.007089266323,\n",
       " 7968.076128131294,\n",
       " 8040.835495425168,\n",
       " 8114.2907797254065,\n",
       " 8188.447597075852,\n",
       " 8263.311590986732,\n",
       " 8338.88843243465,\n",
       " 8415.183819862605,\n",
       " 8492.203479179972,\n",
       " 8569.953163762513,\n",
       " 8648.438654452371,\n",
       " 8727.66575955807,\n",
       " 8807.640314854525,\n",
       " 8888.368183583034,\n",
       " 8969.855256451265,\n",
       " 9052.107451633296,\n",
       " 9135.130714769562,\n",
       " 9218.931018966898,\n",
       " 9303.51436479851,\n",
       " 9388.886780304005,\n",
       " 9475.054320989357,\n",
       " 9562.023069826933,\n",
       " 9649.799137255473,\n",
       " 9738.38866118012,\n",
       " 9827.797806972387,\n",
       " 9918.032767470166,\n",
       " 10009.099762977748,\n",
       " 10101.005041265795,\n",
       " 10193.754877571355,\n",
       " 10287.355574597861,\n",
       " 10381.813462515138,\n",
       " 10477.134898959379,\n",
       " 10573.326269033172,\n",
       " 10670.393985305474,\n",
       " 10768.344487811657,\n",
       " 10867.184244053446,\n",
       " 10966.919748998951,\n",
       " 11067.557525082691,\n",
       " 11169.104122205546,\n",
       " 11271.566117734781,\n",
       " 11374.950116504051,\n",
       " 11479.262750813396,\n",
       " 11584.510680429239,\n",
       " 11690.700592584384,\n",
       " 11797.839201978022,\n",
       " 11905.9332507757,\n",
       " 12014.98950860941,\n",
       " 12125.014772577471,\n",
       " 12236.01586724461,\n",
       " 12347.99964464193,\n",
       " 12460.972984266931,\n",
       " 12574.942793083475,\n",
       " 12689.916005521827,\n",
       " 12805.899583478615,\n",
       " 12922.900516316875,\n",
       " 13040.92582086602,\n",
       " 13159.982541421838,\n",
       " 13280.077749746508,\n",
       " 13401.218545068572,\n",
       " 13523.412054082992,\n",
       " 13646.665430951076,\n",
       " 13770.985857300559,\n",
       " 13896.380542225514,\n",
       " 14022.856722286426,\n",
       " 14150.421661510165,\n",
       " 14279.08265138996,\n",
       " 14408.847010885449,\n",
       " 14539.72208642263,\n",
       " 14671.715251893918,\n",
       " 14804.83390865809,\n",
       " 14939.085485540303,\n",
       " 15074.477438832102,\n",
       " 15211.01725229142,\n",
       " 15348.71243714257,\n",
       " 15487.570532076259,\n",
       " 15627.59910324954,\n",
       " 15768.805744285912,\n",
       " 15911.198076275212,\n",
       " 16054.783747773667,\n",
       " 16199.570434803894,\n",
       " 16345.565840854897,\n",
       " 16492.777696882054,\n",
       " 16641.21376130712,\n",
       " 16790.881820018276,\n",
       " 16941.789686370037,\n",
       " 17093.94520118332,\n",
       " 17247.35623274544,\n",
       " 17402.030676810064,\n",
       " 17557.976456597276,\n",
       " 17715.2015227935,\n",
       " 17873.71385355161,\n",
       " 18033.52145449081,\n",
       " 18194.632358696697,\n",
       " 18357.05462672127,\n",
       " 18520.79634658289,\n",
       " 18685.865633766312,\n",
       " 18852.27063122268,\n",
       " 19020.019509369493,\n",
       " 19189.12046609069,\n",
       " 19359.581726736553,\n",
       " 19531.411544123737,\n",
       " 19704.618198535303,\n",
       " 19879.209997720704,\n",
       " 20055.195276895756,\n",
       " 20232.58239874265,\n",
       " 20411.379753409998,\n",
       " 20591.595758512773,\n",
       " 20773.23885913233,\n",
       " 20956.31752781641,\n",
       " 21140.84026457913,\n",
       " 21326.81559690101,\n",
       " 21514.25207972892,\n",
       " 21703.158295476176,\n",
       " 21893.54285402242,\n",
       " 22085.414392713687,\n",
       " 22278.781576362406,\n",
       " 22473.6530972474,\n",
       " 22670.03767511384,\n",
       " 22867.94405717333,\n",
       " 23067.38101810381,\n",
       " 23268.357360049646,\n",
       " 23470.881912621557,\n",
       " 23674.96353289666,\n",
       " 23880.61110541846,\n",
       " 24087.833542196808,\n",
       " 24296.63978270799,\n",
       " 24507.038793894626,\n",
       " 24719.039570165794,\n",
       " 24932.65113339688,\n",
       " 25147.88253292969,\n",
       " 25364.7428455724,\n",
       " 25583.241175599578,\n",
       " 25803.38665475218,\n",
       " 26025.188442237504,\n",
       " 26248.655724729324,\n",
       " 26473.797716367695,\n",
       " 26700.623658759134,\n",
       " 26929.142820976485,\n",
       " 27159.364499559,\n",
       " ...]"
      ]
     },
     "execution_count": 81,
     "metadata": {},
     "output_type": "execute_result"
    }
   ],
   "source": [
    "y"
   ]
  },
  {
   "cell_type": "markdown",
   "metadata": {},
   "source": [
    "Now we make a contour plot on the range $[5,5]$X$[5,5]$ of the Linear Autoencoder in Equation (8.17) over the dataset shown in the left panel of Figure 8.5 in chapter 8:"
   ]
  },
  {
   "cell_type": "code",
   "execution_count": 82,
   "metadata": {},
   "outputs": [
    {
     "data": {
      "image/png": "[encoded data removed]",
      "text/plain": [
       "<Figure size 432x288 with 1 Axes>"
      ]
     },
     "metadata": {},
     "output_type": "display_data"
    }
   ],
   "source": [
    "import matplotlib.pyplot as plt\n",
    "import numpy as np\n",
    "C1,C2 = np.meshgrid(c1, c2)\n",
    "image = plt.contour(C1, C2, np.array(y).reshape(500,500), [1,2,5,10,100,1000,10000,50000],colors='black', linewidth=.5)"
   ]
  },
  {
   "cell_type": "markdown",
   "metadata": {},
   "source": [
    "From the image above we can obviously see that there are two global minima. Given the concept of the Linear Autoencoder and the result described in Example 8.3, the optimal spanning vector(s) represented by these minima are orthonormal. From the image above we can obviously see that the left global minima is the same as the one shown in the left panel of Figure 8.5. The right global minima in the image above is in the opposite direction to the one shown in the left panel of Figure 8.5.\n"
   ]
  },
  {
   "cell_type": "code",
   "execution_count": null,
   "metadata": {},
   "outputs": [],
   "source": []
  }
 ],
 "metadata": {
  "kernelspec": {
   "display_name": "Python 3",
   "language": "python",
   "name": "python3"
  },
  "language_info": {
   "codemirror_mode": {
    "name": "ipython",
    "version": 3
   },
   "file_extension": ".py",
   "mimetype": "text/x-python",
   "name": "python",
   "nbconvert_exporter": "python",
   "pygments_lexer": "ipython3",
   "version": "3.5.5"
  }
 },
 "nbformat": 4,
 "nbformat_minor": 2
}
